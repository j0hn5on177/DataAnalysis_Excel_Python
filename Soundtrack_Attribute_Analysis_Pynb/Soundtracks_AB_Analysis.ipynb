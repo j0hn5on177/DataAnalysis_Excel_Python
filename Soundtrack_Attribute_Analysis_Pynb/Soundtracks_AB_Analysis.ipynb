{
 "cells": [
  {
   "cell_type": "markdown",
   "metadata": {
    "id": "QhMQIdAIklV-"
   },
   "source": [
    "# <font color='blue'><font size=\"6\">Soundtrack Attribute Analysis</font>"
   ]
  },
  {
   "cell_type": "markdown",
   "metadata": {
    "id": "fd1q74iXklWB"
   },
   "source": [
    "**<font size=\"5\">Introduction</font>**"
   ]
  },
  {
   "cell_type": "markdown",
   "metadata": {
    "id": "hdYuHBmf9vpw"
   },
   "source": [
    "My research questions involve looking at variables that have an impact on a song or soundtrack's popularity rating. What variables influence whether a song is popular on spotify or not? The original data is found on kaggle as a training dataset, which was fetched from Spotify's Web API randomly. There are approximately 440,000 rows of data, with different datatypes (string, int, float). I do not look at how popularity was derived, but instead, my goal would be looking at the relationship between popularity and the other attributes. For modern purposes, I have excluded songs older than 1950 from my analysis. \n",
    "\n",
    "The attribute descriptions are found at: https://developer.spotify.com/documentation/web-api/reference/#/operations/get-audio-features\n",
    "\n",
    "Attributes in Analysis (19 attributes) = song_name, artist_name, popularity, year, acousticness, danceability, duration_ms, seconds, energy, instrumentalness, key, liveness, loudness, mode\n",
    "\n",
    "Attributes that I conduct hypotheses testing on: \n",
    "1. popularity\n",
    "2. year\n",
    "3. seconds\n",
    "4. energy\n",
    "5. danceability"
   ]
  },
  {
   "cell_type": "markdown",
   "metadata": {
    "id": "Wh9NR5-SklWD"
   },
   "source": [
    "**<font size=\"5\">Imports and Dataframes</font>**"
   ]
  },
  {
   "cell_type": "code",
   "execution_count": 3,
   "metadata": {
    "id": "vP9ScOsXSCwB"
   },
   "outputs": [],
   "source": [
    "import pandas as pd\n",
    "import numpy as np\n",
    "from scipy import stats\n",
    "import matplotlib.pyplot as plt\n",
    "%matplotlib inline\n",
    "import seaborn as sns\n",
    "\n",
    "import math\n",
    "import warnings\n",
    "warnings.filterwarnings('ignore')"
   ]
  },
  {
   "cell_type": "code",
   "execution_count": 4,
   "metadata": {
    "id": "smfTXVkyS6zC"
   },
   "outputs": [],
   "source": [
    "#some problems with a few csv rows which prevented loading in read_csv function, so I skipped them\n",
    "df = pd.read_csv(\"https://raw.githubusercontent.com/j0hn5on177/Thinkful_Projects/Main/Soundtrack_Attribute_Analysis_Pynb/spotify_tracks_metadata_cleaned.csv\", error_bad_lines=False)"
   ]
  },
  {
   "cell_type": "code",
   "execution_count": 5,
   "metadata": {
    "colab": {
     "base_uri": "https://localhost:8080/",
     "height": 731
    },
    "executionInfo": {
     "elapsed": 166,
     "status": "ok",
     "timestamp": 1643411740894,
     "user": {
      "displayName": "Johnson Liang",
      "photoUrl": "https://lh3.googleusercontent.com/a/default-user=s64",
      "userId": "01439563269954497799"
     },
     "user_tz": 300
    },
    "id": "zXEZ3tLzO4O7",
    "outputId": "ae370ba5-90dd-48d3-e20d-423f95ff3755"
   },
   "outputs": [
    {
     "data": {
      "text/html": [
       "<div>\n",
       "<style scoped>\n",
       "    .dataframe tbody tr th:only-of-type {\n",
       "        vertical-align: middle;\n",
       "    }\n",
       "\n",
       "    .dataframe tbody tr th {\n",
       "        vertical-align: top;\n",
       "    }\n",
       "\n",
       "    .dataframe thead th {\n",
       "        text-align: right;\n",
       "    }\n",
       "</style>\n",
       "<table border=\"1\" class=\"dataframe\">\n",
       "  <thead>\n",
       "    <tr style=\"text-align: right;\">\n",
       "      <th></th>\n",
       "      <th>Unnamed: 0</th>\n",
       "      <th>song_name</th>\n",
       "      <th>artist_name</th>\n",
       "      <th>song_popularity</th>\n",
       "      <th>album_release_year</th>\n",
       "      <th>acousticness</th>\n",
       "      <th>danceability</th>\n",
       "      <th>duration_ms</th>\n",
       "      <th>duration_seconds</th>\n",
       "      <th>energy</th>\n",
       "      <th>instrumentalness</th>\n",
       "      <th>key</th>\n",
       "      <th>liveness</th>\n",
       "      <th>loudness</th>\n",
       "      <th>mode</th>\n",
       "      <th>speechiness</th>\n",
       "      <th>tempo</th>\n",
       "      <th>time_signature</th>\n",
       "      <th>valence</th>\n",
       "    </tr>\n",
       "  </thead>\n",
       "  <tbody>\n",
       "    <tr>\n",
       "      <th>0</th>\n",
       "      <td>0</td>\n",
       "      <td>drivers license</td>\n",
       "      <td>Olivia Rodrigo</td>\n",
       "      <td>100</td>\n",
       "      <td>2021.0</td>\n",
       "      <td>0.72100</td>\n",
       "      <td>0.585</td>\n",
       "      <td>242014</td>\n",
       "      <td>242.014</td>\n",
       "      <td>0.436</td>\n",
       "      <td>0.000013</td>\n",
       "      <td>10</td>\n",
       "      <td>0.1050</td>\n",
       "      <td>-8.761</td>\n",
       "      <td>1</td>\n",
       "      <td>0.0601</td>\n",
       "      <td>143.874</td>\n",
       "      <td>4</td>\n",
       "      <td>0.132</td>\n",
       "    </tr>\n",
       "    <tr>\n",
       "      <th>1</th>\n",
       "      <td>1</td>\n",
       "      <td>Save Your Tears</td>\n",
       "      <td>The Weeknd</td>\n",
       "      <td>96</td>\n",
       "      <td>2020.0</td>\n",
       "      <td>0.02120</td>\n",
       "      <td>0.680</td>\n",
       "      <td>215627</td>\n",
       "      <td>215.627</td>\n",
       "      <td>0.826</td>\n",
       "      <td>0.000012</td>\n",
       "      <td>0</td>\n",
       "      <td>0.5430</td>\n",
       "      <td>-5.487</td>\n",
       "      <td>1</td>\n",
       "      <td>0.0309</td>\n",
       "      <td>118.051</td>\n",
       "      <td>4</td>\n",
       "      <td>0.644</td>\n",
       "    </tr>\n",
       "    <tr>\n",
       "      <th>2</th>\n",
       "      <td>2</td>\n",
       "      <td>Blinding Lights</td>\n",
       "      <td>The Weeknd</td>\n",
       "      <td>96</td>\n",
       "      <td>2020.0</td>\n",
       "      <td>0.00146</td>\n",
       "      <td>0.514</td>\n",
       "      <td>200040</td>\n",
       "      <td>200.040</td>\n",
       "      <td>0.730</td>\n",
       "      <td>0.000095</td>\n",
       "      <td>1</td>\n",
       "      <td>0.0897</td>\n",
       "      <td>-5.934</td>\n",
       "      <td>1</td>\n",
       "      <td>0.0598</td>\n",
       "      <td>171.005</td>\n",
       "      <td>4</td>\n",
       "      <td>0.334</td>\n",
       "    </tr>\n",
       "    <tr>\n",
       "      <th>3</th>\n",
       "      <td>3</td>\n",
       "      <td>Mood (feat. iann dior)</td>\n",
       "      <td>24kGoldn</td>\n",
       "      <td>95</td>\n",
       "      <td>2020.0</td>\n",
       "      <td>0.22100</td>\n",
       "      <td>0.700</td>\n",
       "      <td>140526</td>\n",
       "      <td>140.526</td>\n",
       "      <td>0.722</td>\n",
       "      <td>0.000000</td>\n",
       "      <td>7</td>\n",
       "      <td>0.2720</td>\n",
       "      <td>-3.558</td>\n",
       "      <td>0</td>\n",
       "      <td>0.0369</td>\n",
       "      <td>90.989</td>\n",
       "      <td>4</td>\n",
       "      <td>0.756</td>\n",
       "    </tr>\n",
       "    <tr>\n",
       "      <th>4</th>\n",
       "      <td>4</td>\n",
       "      <td>WITHOUT YOU</td>\n",
       "      <td>The Kid LAROI</td>\n",
       "      <td>94</td>\n",
       "      <td>2020.0</td>\n",
       "      <td>0.21300</td>\n",
       "      <td>0.662</td>\n",
       "      <td>161385</td>\n",
       "      <td>161.385</td>\n",
       "      <td>0.413</td>\n",
       "      <td>0.000000</td>\n",
       "      <td>0</td>\n",
       "      <td>0.1340</td>\n",
       "      <td>-7.357</td>\n",
       "      <td>1</td>\n",
       "      <td>0.0299</td>\n",
       "      <td>93.005</td>\n",
       "      <td>4</td>\n",
       "      <td>0.467</td>\n",
       "    </tr>\n",
       "    <tr>\n",
       "      <th>...</th>\n",
       "      <td>...</td>\n",
       "      <td>...</td>\n",
       "      <td>...</td>\n",
       "      <td>...</td>\n",
       "      <td>...</td>\n",
       "      <td>...</td>\n",
       "      <td>...</td>\n",
       "      <td>...</td>\n",
       "      <td>...</td>\n",
       "      <td>...</td>\n",
       "      <td>...</td>\n",
       "      <td>...</td>\n",
       "      <td>...</td>\n",
       "      <td>...</td>\n",
       "      <td>...</td>\n",
       "      <td>...</td>\n",
       "      <td>...</td>\n",
       "      <td>...</td>\n",
       "      <td>...</td>\n",
       "    </tr>\n",
       "    <tr>\n",
       "      <th>439888</th>\n",
       "      <td>439888</td>\n",
       "      <td>Aarti Durga Maa Ki</td>\n",
       "      <td>Anuradha Paudwal</td>\n",
       "      <td>0</td>\n",
       "      <td>2021.0</td>\n",
       "      <td>0.41500</td>\n",
       "      <td>0.587</td>\n",
       "      <td>317759</td>\n",
       "      <td>317.759</td>\n",
       "      <td>0.587</td>\n",
       "      <td>0.000000</td>\n",
       "      <td>11</td>\n",
       "      <td>0.6000</td>\n",
       "      <td>-8.828</td>\n",
       "      <td>1</td>\n",
       "      <td>0.0325</td>\n",
       "      <td>89.976</td>\n",
       "      <td>4</td>\n",
       "      <td>0.564</td>\n",
       "    </tr>\n",
       "    <tr>\n",
       "      <th>439889</th>\n",
       "      <td>439889</td>\n",
       "      <td>Aaramangal</td>\n",
       "      <td>K. S. Chithra</td>\n",
       "      <td>0</td>\n",
       "      <td>2021.0</td>\n",
       "      <td>0.52100</td>\n",
       "      <td>0.748</td>\n",
       "      <td>312375</td>\n",
       "      <td>312.375</td>\n",
       "      <td>0.482</td>\n",
       "      <td>0.000006</td>\n",
       "      <td>9</td>\n",
       "      <td>0.2380</td>\n",
       "      <td>-8.669</td>\n",
       "      <td>0</td>\n",
       "      <td>0.0303</td>\n",
       "      <td>113.019</td>\n",
       "      <td>4</td>\n",
       "      <td>0.910</td>\n",
       "    </tr>\n",
       "    <tr>\n",
       "      <th>439890</th>\n",
       "      <td>439890</td>\n",
       "      <td>Aarti (Lovthavti Vikrala) [From \"Shankara Karu...</td>\n",
       "      <td>Anuradha Paudwal</td>\n",
       "      <td>0</td>\n",
       "      <td>2021.0</td>\n",
       "      <td>0.60800</td>\n",
       "      <td>0.672</td>\n",
       "      <td>126457</td>\n",
       "      <td>126.457</td>\n",
       "      <td>0.380</td>\n",
       "      <td>0.000000</td>\n",
       "      <td>5</td>\n",
       "      <td>0.0799</td>\n",
       "      <td>-10.281</td>\n",
       "      <td>0</td>\n",
       "      <td>0.0349</td>\n",
       "      <td>100.613</td>\n",
       "      <td>3</td>\n",
       "      <td>0.908</td>\n",
       "    </tr>\n",
       "    <tr>\n",
       "      <th>439891</th>\n",
       "      <td>439891</td>\n",
       "      <td>Aa Bhi Jao Ki</td>\n",
       "      <td>Kavita Krishnamurthy</td>\n",
       "      <td>0</td>\n",
       "      <td>2021.0</td>\n",
       "      <td>0.08910</td>\n",
       "      <td>0.777</td>\n",
       "      <td>337536</td>\n",
       "      <td>337.536</td>\n",
       "      <td>0.556</td>\n",
       "      <td>0.000891</td>\n",
       "      <td>4</td>\n",
       "      <td>0.0896</td>\n",
       "      <td>-10.777</td>\n",
       "      <td>1</td>\n",
       "      <td>0.0263</td>\n",
       "      <td>106.999</td>\n",
       "      <td>4</td>\n",
       "      <td>0.784</td>\n",
       "    </tr>\n",
       "    <tr>\n",
       "      <th>439892</th>\n",
       "      <td>439892</td>\n",
       "      <td>Hablando Pxvadas</td>\n",
       "      <td>D-Optus</td>\n",
       "      <td>0</td>\n",
       "      <td>2020.0</td>\n",
       "      <td>0.06100</td>\n",
       "      <td>0.812</td>\n",
       "      <td>152560</td>\n",
       "      <td>152.560</td>\n",
       "      <td>0.465</td>\n",
       "      <td>0.029100</td>\n",
       "      <td>0</td>\n",
       "      <td>0.4260</td>\n",
       "      <td>-14.349</td>\n",
       "      <td>0</td>\n",
       "      <td>0.2150</td>\n",
       "      <td>143.011</td>\n",
       "      <td>4</td>\n",
       "      <td>0.791</td>\n",
       "    </tr>\n",
       "  </tbody>\n",
       "</table>\n",
       "<p>439893 rows × 19 columns</p>\n",
       "</div>"
      ],
      "text/plain": [
       "        Unnamed: 0                                          song_name  \\\n",
       "0                0                                    drivers license   \n",
       "1                1                                    Save Your Tears   \n",
       "2                2                                    Blinding Lights   \n",
       "3                3                             Mood (feat. iann dior)   \n",
       "4                4                                        WITHOUT YOU   \n",
       "...            ...                                                ...   \n",
       "439888      439888                                 Aarti Durga Maa Ki   \n",
       "439889      439889                                         Aaramangal   \n",
       "439890      439890  Aarti (Lovthavti Vikrala) [From \"Shankara Karu...   \n",
       "439891      439891                                      Aa Bhi Jao Ki   \n",
       "439892      439892                                   Hablando Pxvadas   \n",
       "\n",
       "                 artist_name  song_popularity  album_release_year  \\\n",
       "0             Olivia Rodrigo              100              2021.0   \n",
       "1                 The Weeknd               96              2020.0   \n",
       "2                 The Weeknd               96              2020.0   \n",
       "3                   24kGoldn               95              2020.0   \n",
       "4              The Kid LAROI               94              2020.0   \n",
       "...                      ...              ...                 ...   \n",
       "439888      Anuradha Paudwal                0              2021.0   \n",
       "439889         K. S. Chithra                0              2021.0   \n",
       "439890      Anuradha Paudwal                0              2021.0   \n",
       "439891  Kavita Krishnamurthy                0              2021.0   \n",
       "439892               D-Optus                0              2020.0   \n",
       "\n",
       "        acousticness  danceability  duration_ms  duration_seconds  energy  \\\n",
       "0            0.72100         0.585       242014           242.014   0.436   \n",
       "1            0.02120         0.680       215627           215.627   0.826   \n",
       "2            0.00146         0.514       200040           200.040   0.730   \n",
       "3            0.22100         0.700       140526           140.526   0.722   \n",
       "4            0.21300         0.662       161385           161.385   0.413   \n",
       "...              ...           ...          ...               ...     ...   \n",
       "439888       0.41500         0.587       317759           317.759   0.587   \n",
       "439889       0.52100         0.748       312375           312.375   0.482   \n",
       "439890       0.60800         0.672       126457           126.457   0.380   \n",
       "439891       0.08910         0.777       337536           337.536   0.556   \n",
       "439892       0.06100         0.812       152560           152.560   0.465   \n",
       "\n",
       "        instrumentalness  key  liveness  loudness  mode  speechiness    tempo  \\\n",
       "0               0.000013   10    0.1050    -8.761     1       0.0601  143.874   \n",
       "1               0.000012    0    0.5430    -5.487     1       0.0309  118.051   \n",
       "2               0.000095    1    0.0897    -5.934     1       0.0598  171.005   \n",
       "3               0.000000    7    0.2720    -3.558     0       0.0369   90.989   \n",
       "4               0.000000    0    0.1340    -7.357     1       0.0299   93.005   \n",
       "...                  ...  ...       ...       ...   ...          ...      ...   \n",
       "439888          0.000000   11    0.6000    -8.828     1       0.0325   89.976   \n",
       "439889          0.000006    9    0.2380    -8.669     0       0.0303  113.019   \n",
       "439890          0.000000    5    0.0799   -10.281     0       0.0349  100.613   \n",
       "439891          0.000891    4    0.0896   -10.777     1       0.0263  106.999   \n",
       "439892          0.029100    0    0.4260   -14.349     0       0.2150  143.011   \n",
       "\n",
       "        time_signature  valence  \n",
       "0                    4    0.132  \n",
       "1                    4    0.644  \n",
       "2                    4    0.334  \n",
       "3                    4    0.756  \n",
       "4                    4    0.467  \n",
       "...                ...      ...  \n",
       "439888               4    0.564  \n",
       "439889               4    0.910  \n",
       "439890               3    0.908  \n",
       "439891               4    0.784  \n",
       "439892               4    0.791  \n",
       "\n",
       "[439893 rows x 19 columns]"
      ]
     },
     "execution_count": 5,
     "metadata": {},
     "output_type": "execute_result"
    }
   ],
   "source": [
    "df"
   ]
  },
  {
   "cell_type": "markdown",
   "metadata": {
    "id": "6VPCU1AQvrsg"
   },
   "source": [
    "**<font size=\"5\">Basic EDA</font>**\n",
    "1. Looked at which part of the dataset I was keeping which was songs released in 1950 and later\n",
    "2. Dropped a few nulls \n",
    "3. Looked at the means of popularity ratings by year \n"
   ]
  },
  {
   "cell_type": "code",
   "execution_count": 6,
   "metadata": {
    "id": "SmjdC8SxS_8k"
   },
   "outputs": [],
   "source": [
    "# rename column rows and only use soundtracks released in 1950 and later\n",
    "renamed_df = df.rename(columns = {'Unnamed: 0': 'Index Num', 'song_popularity': 'popularity', 'album_release_year': 'year','duration_seconds': 'seconds'})\n",
    "df_1950 = renamed_df['year'] >= 1950\n",
    "df_spotify1 = renamed_df.loc[df_1950]"
   ]
  },
  {
   "cell_type": "code",
   "execution_count": 7,
   "metadata": {
    "colab": {
     "base_uri": "https://localhost:8080/"
    },
    "executionInfo": {
     "elapsed": 625,
     "status": "ok",
     "timestamp": 1643411741691,
     "user": {
      "displayName": "Johnson Liang",
      "photoUrl": "https://lh3.googleusercontent.com/a/default-user=s64",
      "userId": "01439563269954497799"
     },
     "user_tz": 300
    },
    "id": "VqGz4UwATFKR",
    "outputId": "a04cc89f-4369-495b-d312-2580afa98c83"
   },
   "outputs": [
    {
     "name": "stdout",
     "output_type": "stream",
     "text": [
      "<class 'pandas.core.frame.DataFrame'>\n",
      "Int64Index: 439529 entries, 0 to 439892\n",
      "Data columns (total 19 columns):\n",
      " #   Column            Non-Null Count   Dtype  \n",
      "---  ------            --------------   -----  \n",
      " 0   Index Num         439529 non-null  int64  \n",
      " 1   song_name         439527 non-null  object \n",
      " 2   artist_name       439520 non-null  object \n",
      " 3   popularity        439529 non-null  int64  \n",
      " 4   year              439529 non-null  float64\n",
      " 5   acousticness      439529 non-null  float64\n",
      " 6   danceability      439529 non-null  float64\n",
      " 7   duration_ms       439529 non-null  int64  \n",
      " 8   seconds           439529 non-null  float64\n",
      " 9   energy            439529 non-null  float64\n",
      " 10  instrumentalness  439529 non-null  float64\n",
      " 11  key               439529 non-null  int64  \n",
      " 12  liveness          439529 non-null  float64\n",
      " 13  loudness          439529 non-null  float64\n",
      " 14  mode              439529 non-null  int64  \n",
      " 15  speechiness       439529 non-null  float64\n",
      " 16  tempo             439529 non-null  float64\n",
      " 17  time_signature    439529 non-null  int64  \n",
      " 18  valence           439529 non-null  float64\n",
      "dtypes: float64(11), int64(6), object(2)\n",
      "memory usage: 67.1+ MB\n"
     ]
    }
   ],
   "source": [
    "# check if years actually begin at 1950 (answer is yes)\n",
    "df_spotify1.sort_values(by='year')\n",
    "# found a few nulls in song name and artist name, which is insignificant compared to 440,000 rows \n",
    "df_spotify1.info()"
   ]
  },
  {
   "cell_type": "code",
   "execution_count": 8,
   "metadata": {
    "colab": {
     "base_uri": "https://localhost:8080/"
    },
    "executionInfo": {
     "elapsed": 511,
     "status": "ok",
     "timestamp": 1643411742201,
     "user": {
      "displayName": "Johnson Liang",
      "photoUrl": "https://lh3.googleusercontent.com/a/default-user=s64",
      "userId": "01439563269954497799"
     },
     "user_tz": 300
    },
    "id": "EXqW6g_2vewo",
    "outputId": "73f89c5f-a8b5-434c-9f96-61a83edb3982"
   },
   "outputs": [
    {
     "name": "stdout",
     "output_type": "stream",
     "text": [
      "<class 'pandas.core.frame.DataFrame'>\n",
      "Int64Index: 439519 entries, 0 to 439892\n",
      "Data columns (total 19 columns):\n",
      " #   Column            Non-Null Count   Dtype  \n",
      "---  ------            --------------   -----  \n",
      " 0   Index Num         439519 non-null  int64  \n",
      " 1   song_name         439519 non-null  object \n",
      " 2   artist_name       439519 non-null  object \n",
      " 3   popularity        439519 non-null  int64  \n",
      " 4   year              439519 non-null  float64\n",
      " 5   acousticness      439519 non-null  float64\n",
      " 6   danceability      439519 non-null  float64\n",
      " 7   duration_ms       439519 non-null  int64  \n",
      " 8   seconds           439519 non-null  float64\n",
      " 9   energy            439519 non-null  float64\n",
      " 10  instrumentalness  439519 non-null  float64\n",
      " 11  key               439519 non-null  int64  \n",
      " 12  liveness          439519 non-null  float64\n",
      " 13  loudness          439519 non-null  float64\n",
      " 14  mode              439519 non-null  int64  \n",
      " 15  speechiness       439519 non-null  float64\n",
      " 16  tempo             439519 non-null  float64\n",
      " 17  time_signature    439519 non-null  int64  \n",
      " 18  valence           439519 non-null  float64\n",
      "dtypes: float64(11), int64(6), object(2)\n",
      "memory usage: 67.1+ MB\n"
     ]
    }
   ],
   "source": [
    "# dropped the few nulls from the dataframe \n",
    "df_tracks = df_spotify1.dropna()\n",
    "df_tracks.info()"
   ]
  },
  {
   "cell_type": "code",
   "execution_count": 9,
   "metadata": {
    "colab": {
     "base_uri": "https://localhost:8080/",
     "height": 582
    },
    "executionInfo": {
     "elapsed": 795,
     "status": "ok",
     "timestamp": 1643411742995,
     "user": {
      "displayName": "Johnson Liang",
      "photoUrl": "https://lh3.googleusercontent.com/a/default-user=s64",
      "userId": "01439563269954497799"
     },
     "user_tz": 300
    },
    "id": "Of40pB6RklWH",
    "outputId": "41419479-abe4-4efd-a591-b98e76348f49"
   },
   "outputs": [
    {
     "data": {
      "text/html": [
       "<div>\n",
       "<style scoped>\n",
       "    .dataframe tbody tr th:only-of-type {\n",
       "        vertical-align: middle;\n",
       "    }\n",
       "\n",
       "    .dataframe tbody tr th {\n",
       "        vertical-align: top;\n",
       "    }\n",
       "\n",
       "    .dataframe thead th {\n",
       "        text-align: right;\n",
       "    }\n",
       "</style>\n",
       "<table border=\"1\" class=\"dataframe\">\n",
       "  <thead>\n",
       "    <tr style=\"text-align: right;\">\n",
       "      <th></th>\n",
       "      <th>count</th>\n",
       "      <th>mean</th>\n",
       "      <th>std</th>\n",
       "      <th>min</th>\n",
       "      <th>25%</th>\n",
       "      <th>50%</th>\n",
       "      <th>75%</th>\n",
       "      <th>max</th>\n",
       "    </tr>\n",
       "  </thead>\n",
       "  <tbody>\n",
       "    <tr>\n",
       "      <th>Index Num</th>\n",
       "      <td>439519.0</td>\n",
       "      <td>219999.702004</td>\n",
       "      <td>126979.750790</td>\n",
       "      <td>0.000</td>\n",
       "      <td>110049.5000</td>\n",
       "      <td>220029.000000</td>\n",
       "      <td>329966.500</td>\n",
       "      <td>439892.000</td>\n",
       "    </tr>\n",
       "    <tr>\n",
       "      <th>popularity</th>\n",
       "      <td>439519.0</td>\n",
       "      <td>22.801492</td>\n",
       "      <td>18.516217</td>\n",
       "      <td>0.000</td>\n",
       "      <td>7.0000</td>\n",
       "      <td>20.000000</td>\n",
       "      <td>36.000</td>\n",
       "      <td>100.000</td>\n",
       "    </tr>\n",
       "    <tr>\n",
       "      <th>year</th>\n",
       "      <td>439519.0</td>\n",
       "      <td>2015.093614</td>\n",
       "      <td>8.381108</td>\n",
       "      <td>1950.000</td>\n",
       "      <td>2014.0000</td>\n",
       "      <td>2018.000000</td>\n",
       "      <td>2020.000</td>\n",
       "      <td>2021.000</td>\n",
       "    </tr>\n",
       "    <tr>\n",
       "      <th>acousticness</th>\n",
       "      <td>439519.0</td>\n",
       "      <td>0.332380</td>\n",
       "      <td>0.320259</td>\n",
       "      <td>0.000</td>\n",
       "      <td>0.0396</td>\n",
       "      <td>0.224000</td>\n",
       "      <td>0.586</td>\n",
       "      <td>0.996</td>\n",
       "    </tr>\n",
       "    <tr>\n",
       "      <th>danceability</th>\n",
       "      <td>439519.0</td>\n",
       "      <td>0.616962</td>\n",
       "      <td>0.177984</td>\n",
       "      <td>0.000</td>\n",
       "      <td>0.5150</td>\n",
       "      <td>0.647000</td>\n",
       "      <td>0.743</td>\n",
       "      <td>0.994</td>\n",
       "    </tr>\n",
       "    <tr>\n",
       "      <th>duration_ms</th>\n",
       "      <td>439519.0</td>\n",
       "      <td>213395.628437</td>\n",
       "      <td>124000.221885</td>\n",
       "      <td>1864.000</td>\n",
       "      <td>154000.0000</td>\n",
       "      <td>199393.000000</td>\n",
       "      <td>247333.000</td>\n",
       "      <td>6024647.000</td>\n",
       "    </tr>\n",
       "    <tr>\n",
       "      <th>seconds</th>\n",
       "      <td>439519.0</td>\n",
       "      <td>213.395628</td>\n",
       "      <td>124.000222</td>\n",
       "      <td>1.864</td>\n",
       "      <td>154.0000</td>\n",
       "      <td>199.393000</td>\n",
       "      <td>247.333</td>\n",
       "      <td>6024.647</td>\n",
       "    </tr>\n",
       "    <tr>\n",
       "      <th>energy</th>\n",
       "      <td>439519.0</td>\n",
       "      <td>0.585028</td>\n",
       "      <td>0.249029</td>\n",
       "      <td>0.000</td>\n",
       "      <td>0.4120</td>\n",
       "      <td>0.610000</td>\n",
       "      <td>0.786</td>\n",
       "      <td>1.000</td>\n",
       "    </tr>\n",
       "    <tr>\n",
       "      <th>instrumentalness</th>\n",
       "      <td>439519.0</td>\n",
       "      <td>0.188696</td>\n",
       "      <td>0.338795</td>\n",
       "      <td>0.000</td>\n",
       "      <td>0.0000</td>\n",
       "      <td>0.000021</td>\n",
       "      <td>0.148</td>\n",
       "      <td>1.000</td>\n",
       "    </tr>\n",
       "    <tr>\n",
       "      <th>key</th>\n",
       "      <td>439519.0</td>\n",
       "      <td>5.289148</td>\n",
       "      <td>3.606940</td>\n",
       "      <td>0.000</td>\n",
       "      <td>2.0000</td>\n",
       "      <td>5.000000</td>\n",
       "      <td>8.000</td>\n",
       "      <td>11.000</td>\n",
       "    </tr>\n",
       "    <tr>\n",
       "      <th>liveness</th>\n",
       "      <td>439519.0</td>\n",
       "      <td>0.209457</td>\n",
       "      <td>0.179307</td>\n",
       "      <td>0.000</td>\n",
       "      <td>0.0989</td>\n",
       "      <td>0.131000</td>\n",
       "      <td>0.272</td>\n",
       "      <td>1.000</td>\n",
       "    </tr>\n",
       "    <tr>\n",
       "      <th>loudness</th>\n",
       "      <td>439519.0</td>\n",
       "      <td>-9.957910</td>\n",
       "      <td>5.897359</td>\n",
       "      <td>-60.000</td>\n",
       "      <td>-12.3770</td>\n",
       "      <td>-8.405000</td>\n",
       "      <td>-5.948</td>\n",
       "      <td>5.285</td>\n",
       "    </tr>\n",
       "    <tr>\n",
       "      <th>mode</th>\n",
       "      <td>439519.0</td>\n",
       "      <td>0.574255</td>\n",
       "      <td>0.494456</td>\n",
       "      <td>0.000</td>\n",
       "      <td>0.0000</td>\n",
       "      <td>1.000000</td>\n",
       "      <td>1.000</td>\n",
       "      <td>1.000</td>\n",
       "    </tr>\n",
       "    <tr>\n",
       "      <th>speechiness</th>\n",
       "      <td>439519.0</td>\n",
       "      <td>0.191714</td>\n",
       "      <td>0.252596</td>\n",
       "      <td>0.000</td>\n",
       "      <td>0.0420</td>\n",
       "      <td>0.071700</td>\n",
       "      <td>0.233</td>\n",
       "      <td>0.972</td>\n",
       "    </tr>\n",
       "    <tr>\n",
       "      <th>tempo</th>\n",
       "      <td>439519.0</td>\n",
       "      <td>119.241864</td>\n",
       "      <td>30.199744</td>\n",
       "      <td>0.000</td>\n",
       "      <td>95.1510</td>\n",
       "      <td>120.006000</td>\n",
       "      <td>139.014</td>\n",
       "      <td>249.810</td>\n",
       "    </tr>\n",
       "    <tr>\n",
       "      <th>time_signature</th>\n",
       "      <td>439519.0</td>\n",
       "      <td>3.878606</td>\n",
       "      <td>0.546339</td>\n",
       "      <td>0.000</td>\n",
       "      <td>4.0000</td>\n",
       "      <td>4.000000</td>\n",
       "      <td>4.000</td>\n",
       "      <td>5.000</td>\n",
       "    </tr>\n",
       "    <tr>\n",
       "      <th>valence</th>\n",
       "      <td>439519.0</td>\n",
       "      <td>0.475335</td>\n",
       "      <td>0.253355</td>\n",
       "      <td>0.000</td>\n",
       "      <td>0.2750</td>\n",
       "      <td>0.472000</td>\n",
       "      <td>0.673</td>\n",
       "      <td>1.000</td>\n",
       "    </tr>\n",
       "  </tbody>\n",
       "</table>\n",
       "</div>"
      ],
      "text/plain": [
       "                     count           mean            std       min  \\\n",
       "Index Num         439519.0  219999.702004  126979.750790     0.000   \n",
       "popularity        439519.0      22.801492      18.516217     0.000   \n",
       "year              439519.0    2015.093614       8.381108  1950.000   \n",
       "acousticness      439519.0       0.332380       0.320259     0.000   \n",
       "danceability      439519.0       0.616962       0.177984     0.000   \n",
       "duration_ms       439519.0  213395.628437  124000.221885  1864.000   \n",
       "seconds           439519.0     213.395628     124.000222     1.864   \n",
       "energy            439519.0       0.585028       0.249029     0.000   \n",
       "instrumentalness  439519.0       0.188696       0.338795     0.000   \n",
       "key               439519.0       5.289148       3.606940     0.000   \n",
       "liveness          439519.0       0.209457       0.179307     0.000   \n",
       "loudness          439519.0      -9.957910       5.897359   -60.000   \n",
       "mode              439519.0       0.574255       0.494456     0.000   \n",
       "speechiness       439519.0       0.191714       0.252596     0.000   \n",
       "tempo             439519.0     119.241864      30.199744     0.000   \n",
       "time_signature    439519.0       3.878606       0.546339     0.000   \n",
       "valence           439519.0       0.475335       0.253355     0.000   \n",
       "\n",
       "                          25%            50%         75%          max  \n",
       "Index Num         110049.5000  220029.000000  329966.500   439892.000  \n",
       "popularity             7.0000      20.000000      36.000      100.000  \n",
       "year                2014.0000    2018.000000    2020.000     2021.000  \n",
       "acousticness           0.0396       0.224000       0.586        0.996  \n",
       "danceability           0.5150       0.647000       0.743        0.994  \n",
       "duration_ms       154000.0000  199393.000000  247333.000  6024647.000  \n",
       "seconds              154.0000     199.393000     247.333     6024.647  \n",
       "energy                 0.4120       0.610000       0.786        1.000  \n",
       "instrumentalness       0.0000       0.000021       0.148        1.000  \n",
       "key                    2.0000       5.000000       8.000       11.000  \n",
       "liveness               0.0989       0.131000       0.272        1.000  \n",
       "loudness             -12.3770      -8.405000      -5.948        5.285  \n",
       "mode                   0.0000       1.000000       1.000        1.000  \n",
       "speechiness            0.0420       0.071700       0.233        0.972  \n",
       "tempo                 95.1510     120.006000     139.014      249.810  \n",
       "time_signature         4.0000       4.000000       4.000        5.000  \n",
       "valence                0.2750       0.472000       0.673        1.000  "
      ]
     },
     "execution_count": 9,
     "metadata": {},
     "output_type": "execute_result"
    }
   ],
   "source": [
    "df_tracks.describe().T"
   ]
  },
  {
   "cell_type": "markdown",
   "metadata": {
    "id": "RhOdyeGpPJ1I"
   },
   "source": [
    "**<font size=\"5\">Visualizations and Descriptives</font>**"
   ]
  },
  {
   "cell_type": "markdown",
   "metadata": {
    "id": "Sc9zgPiaklWI"
   },
   "source": [
    "###### <font size=\"4\">1. Popularity Rating (0-100)</font>"
   ]
  },
  {
   "cell_type": "markdown",
   "metadata": {
    "id": "mL77weQ9klWI"
   },
   "source": [
    "Majority of songs fall under a rating of 60\n",
    "- Popularity ratings are skewed to the left, with many songs falling under a rating of 80. \n",
    "- 99% of the soundtracks have a rating of 80 or under.\n",
    "- 96% of the soundtracks have a rating of 60 or under. \n",
    "- 13% of the soundtracks have a rating of 0. \n",
    "- average rating is 22.8"
   ]
  },
  {
   "cell_type": "code",
   "execution_count": 10,
   "metadata": {
    "colab": {
     "base_uri": "https://localhost:8080/"
    },
    "executionInfo": {
     "elapsed": 4,
     "status": "ok",
     "timestamp": 1643411742995,
     "user": {
      "displayName": "Johnson Liang",
      "photoUrl": "https://lh3.googleusercontent.com/a/default-user=s64",
      "userId": "01439563269954497799"
     },
     "user_tz": 300
    },
    "id": "Gg4xlJLZklWJ",
    "outputId": "cf73d470-5566-4739-f2ee-874158523c91"
   },
   "outputs": [
    {
     "data": {
      "text/plain": [
       "count    439519.000000\n",
       "mean         22.801492\n",
       "std          18.516217\n",
       "min           0.000000\n",
       "25%           7.000000\n",
       "50%          20.000000\n",
       "75%          36.000000\n",
       "max         100.000000\n",
       "Name: popularity, dtype: float64"
      ]
     },
     "execution_count": 10,
     "metadata": {},
     "output_type": "execute_result"
    }
   ],
   "source": [
    "track_pop = df_tracks['popularity']\n",
    "track_pop.describe()"
   ]
  },
  {
   "cell_type": "code",
   "execution_count": 11,
   "metadata": {
    "colab": {
     "base_uri": "https://localhost:8080/",
     "height": 334
    },
    "executionInfo": {
     "elapsed": 7205,
     "status": "ok",
     "timestamp": 1643411750198,
     "user": {
      "displayName": "Johnson Liang",
      "photoUrl": "https://lh3.googleusercontent.com/a/default-user=s64",
      "userId": "01439563269954497799"
     },
     "user_tz": 300
    },
    "id": "BVciCOx2HnZ5",
    "outputId": "05281835-5316-491d-9aab-3658ce6b8a20"
   },
   "outputs": [
    {
     "name": "stdout",
     "output_type": "stream",
     "text": [
      "0.9989\n",
      "0.9639\n",
      "0.1341\n"
     ]
    },
    {
     "data": {
      "image/png": "[encoded data removed]",
      "text/plain": [
       "<Figure size 432x288 with 1 Axes>"
      ]
     },
     "metadata": {
      "needs_background": "light"
     },
     "output_type": "display_data"
    }
   ],
   "source": [
    "popularity_dist = sns.distplot(df_tracks['popularity'])\n",
    "track_pop = df_tracks['popularity']\n",
    "under80 = track_pop.loc[track_pop <= 80].value_counts().sum()\n",
    "under60 = track_pop.loc[track_pop <= 60].value_counts().sum()\n",
    "zero_rating = track_pop.loc[track_pop == 0].value_counts().sum()\n",
    "print(round(under80/ track_pop.value_counts().sum(), 4))\n",
    "print(round(under60/ track_pop.value_counts().sum(), 4))\n",
    "print(round(zero_rating/ track_pop.value_counts().sum(), 4))"
   ]
  },
  {
   "cell_type": "code",
   "execution_count": 12,
   "metadata": {
    "colab": {
     "base_uri": "https://localhost:8080/",
     "height": 296
    },
    "executionInfo": {
     "elapsed": 1923,
     "status": "ok",
     "timestamp": 1643411752118,
     "user": {
      "displayName": "Johnson Liang",
      "photoUrl": "https://lh3.googleusercontent.com/a/default-user=s64",
      "userId": "01439563269954497799"
     },
     "user_tz": 300
    },
    "id": "GAtonZhUkJkN",
    "outputId": "11119ccf-692d-4508-990b-773d37ef8ce9"
   },
   "outputs": [
    {
     "data": {
      "text/plain": [
       "<AxesSubplot:xlabel='year', ylabel='popularity'>"
      ]
     },
     "execution_count": 12,
     "metadata": {},
     "output_type": "execute_result"
    },
    {
     "data": {
      "image/png": "[encoded data removed]",
      "text/plain": [
       "<Figure size 432x288 with 1 Axes>"
      ]
     },
     "metadata": {
      "needs_background": "light"
     },
     "output_type": "display_data"
    }
   ],
   "source": [
    "sns.scatterplot(x='year', y='popularity',data=df_tracks)"
   ]
  },
  {
   "cell_type": "markdown",
   "metadata": {
    "id": "uJqXVdCJklWJ"
   },
   "source": [
    "###### <font size=\"4\">2. Year Released (1950-2021)</font>"
   ]
  },
  {
   "cell_type": "markdown",
   "metadata": {
    "id": "YhaMbw__klWK"
   },
   "source": [
    "Majority of songs in this dataset is from 2010 and later\n",
    "- data skewed to the right\n",
    "- possibly due to ease of access for high quality equipment or technology for home use, resulting in a larger quantity of songs produced than any previous decade\n",
    "- possible due to random chance when original data was fetched from Spotify Web API\n",
    "- 85% of soundtracks are from 2010 and later"
   ]
  },
  {
   "cell_type": "code",
   "execution_count": 13,
   "metadata": {
    "colab": {
     "base_uri": "https://localhost:8080/"
    },
    "executionInfo": {
     "elapsed": 6,
     "status": "ok",
     "timestamp": 1643411752119,
     "user": {
      "displayName": "Johnson Liang",
      "photoUrl": "https://lh3.googleusercontent.com/a/default-user=s64",
      "userId": "01439563269954497799"
     },
     "user_tz": 300
    },
    "id": "UCuGeqn0klWK",
    "outputId": "bc731efa-f873-4a11-f325-206ce158a465"
   },
   "outputs": [
    {
     "data": {
      "text/plain": [
       "count    439519.000000\n",
       "mean       2015.093614\n",
       "std           8.381108\n",
       "min        1950.000000\n",
       "25%        2014.000000\n",
       "50%        2018.000000\n",
       "75%        2020.000000\n",
       "max        2021.000000\n",
       "Name: year, dtype: float64"
      ]
     },
     "execution_count": 13,
     "metadata": {},
     "output_type": "execute_result"
    }
   ],
   "source": [
    "track_year = df_tracks['year']\n",
    "track_year.describe()"
   ]
  },
  {
   "cell_type": "code",
   "execution_count": 14,
   "metadata": {
    "colab": {
     "base_uri": "https://localhost:8080/",
     "height": 296
    },
    "executionInfo": {
     "elapsed": 4751,
     "status": "ok",
     "timestamp": 1643413143841,
     "user": {
      "displayName": "Johnson Liang",
      "photoUrl": "https://lh3.googleusercontent.com/a/default-user=s64",
      "userId": "01439563269954497799"
     },
     "user_tz": 300
    },
    "id": "aZwFjlEb40dA",
    "outputId": "4fb24bcf-8330-4999-f5f3-c5762550bc91",
    "scrolled": true
   },
   "outputs": [
    {
     "name": "stdout",
     "output_type": "stream",
     "text": [
      "0.8491\n"
     ]
    },
    {
     "data": {
      "image/png": "[encoded data removed]",
      "text/plain": [
       "<Figure size 432x288 with 1 Axes>"
      ]
     },
     "metadata": {
      "needs_background": "light"
     },
     "output_type": "display_data"
    }
   ],
   "source": [
    "\n",
    "year = sns.distplot(track_year, bins = 50)\n",
    "\n",
    "year2000 = track_year.loc[track_year >= 2010].value_counts().sum()\n",
    "print(round(year2000/ track_year.value_counts().sum(), 4))"
   ]
  },
  {
   "cell_type": "markdown",
   "metadata": {
    "id": "IvAnCTajklWK"
   },
   "source": [
    "###### <font size=\"4\">3. Duration (s)</font>"
   ]
  },
  {
   "cell_type": "markdown",
   "metadata": {
    "id": "t_IqWLR8klWK"
   },
   "source": [
    "Average song lasted around 213 seconds (3.5 minutes)\n",
    "- skewed to the left\n",
    "- 87% of soundtracks have a duration of 300 seconds and under"
   ]
  },
  {
   "cell_type": "code",
   "execution_count": 15,
   "metadata": {
    "colab": {
     "base_uri": "https://localhost:8080/"
    },
    "executionInfo": {
     "elapsed": 136,
     "status": "ok",
     "timestamp": 1643411755276,
     "user": {
      "displayName": "Johnson Liang",
      "photoUrl": "https://lh3.googleusercontent.com/a/default-user=s64",
      "userId": "01439563269954497799"
     },
     "user_tz": 300
    },
    "id": "UeMvr8FOklWK",
    "outputId": "fc1526cc-ee5b-4ef8-eb7e-eb3cef4fb819"
   },
   "outputs": [
    {
     "data": {
      "text/plain": [
       "count    439519.000000\n",
       "mean        213.395628\n",
       "std         124.000222\n",
       "min           1.864000\n",
       "25%         154.000000\n",
       "50%         199.393000\n",
       "75%         247.333000\n",
       "max        6024.647000\n",
       "Name: seconds, dtype: float64"
      ]
     },
     "execution_count": 15,
     "metadata": {},
     "output_type": "execute_result"
    }
   ],
   "source": [
    "duration = df_tracks['seconds']\n",
    "duration.describe()"
   ]
  },
  {
   "cell_type": "code",
   "execution_count": 16,
   "metadata": {
    "colab": {
     "base_uri": "https://localhost:8080/",
     "height": 296
    },
    "executionInfo": {
     "elapsed": 3029,
     "status": "ok",
     "timestamp": 1643411758304,
     "user": {
      "displayName": "Johnson Liang",
      "photoUrl": "https://lh3.googleusercontent.com/a/default-user=s64",
      "userId": "01439563269954497799"
     },
     "user_tz": 300
    },
    "id": "CR_jPh9yklWL",
    "outputId": "22f279ac-e40c-4d76-8ce7-5db30a50c55d",
    "scrolled": true
   },
   "outputs": [
    {
     "name": "stdout",
     "output_type": "stream",
     "text": [
      "0.8765377605973803\n"
     ]
    },
    {
     "data": {
      "image/png": "[encoded data removed]",
      "text/plain": [
       "<Figure size 432x288 with 1 Axes>"
      ]
     },
     "metadata": {
      "needs_background": "light"
     },
     "output_type": "display_data"
    }
   ],
   "source": [
    "under200 = duration.loc[duration <= 300].value_counts().sum()\n",
    "seconds = sns.distplot(duration)\n",
    "print(under200/ duration.value_counts().sum())"
   ]
  },
  {
   "cell_type": "markdown",
   "metadata": {
    "id": "i6N7VrUFklWL"
   },
   "source": [
    "###### <font size=\"4\">4. Energy (0-1)</font>\n",
    "35% of songs fall under an energy rating of 0.5\n",
    "- skewed just slightly to the right\n",
    "- average energy rating of a soundtrack is 0.58"
   ]
  },
  {
   "cell_type": "code",
   "execution_count": 17,
   "metadata": {
    "colab": {
     "base_uri": "https://localhost:8080/"
    },
    "executionInfo": {
     "elapsed": 10,
     "status": "ok",
     "timestamp": 1643411758305,
     "user": {
      "displayName": "Johnson Liang",
      "photoUrl": "https://lh3.googleusercontent.com/a/default-user=s64",
      "userId": "01439563269954497799"
     },
     "user_tz": 300
    },
    "id": "bevft4HHklWL",
    "outputId": "baf299d8-bcd3-494d-ab3c-7bb3328af400"
   },
   "outputs": [
    {
     "data": {
      "text/plain": [
       "count    439519.000000\n",
       "mean          0.585028\n",
       "std           0.249029\n",
       "min           0.000000\n",
       "25%           0.412000\n",
       "50%           0.610000\n",
       "75%           0.786000\n",
       "max           1.000000\n",
       "Name: energy, dtype: float64"
      ]
     },
     "execution_count": 17,
     "metadata": {},
     "output_type": "execute_result"
    }
   ],
   "source": [
    "energy = df_tracks['energy']\n",
    "energy.describe()"
   ]
  },
  {
   "cell_type": "code",
   "execution_count": 18,
   "metadata": {
    "colab": {
     "base_uri": "https://localhost:8080/",
     "height": 296
    },
    "executionInfo": {
     "elapsed": 3260,
     "status": "ok",
     "timestamp": 1643411761732,
     "user": {
      "displayName": "Johnson Liang",
      "photoUrl": "https://lh3.googleusercontent.com/a/default-user=s64",
      "userId": "01439563269954497799"
     },
     "user_tz": 300
    },
    "id": "Bh3EbfE9klWL",
    "outputId": "11085edc-3dce-4ed0-82d4-37b7a0ac81a8",
    "scrolled": true
   },
   "outputs": [
    {
     "name": "stdout",
     "output_type": "stream",
     "text": [
      "0.3532\n"
     ]
    },
    {
     "data": {
      "image/png": "[encoded data removed]",
      "text/plain": [
       "<Figure size 432x288 with 1 Axes>"
      ]
     },
     "metadata": {
      "needs_background": "light"
     },
     "output_type": "display_data"
    }
   ],
   "source": [
    "energy_plot = sns.distplot(energy)\n",
    "energy58 = energy.loc[energy <= .5].value_counts().sum()\n",
    "print(round(energy58/ energy.value_counts().sum(), 4))"
   ]
  },
  {
   "cell_type": "markdown",
   "metadata": {
    "id": "nKuhGBvyklWL"
   },
   "source": [
    "###### <font size=\"4\">5. Danceability (0-1)</font>"
   ]
  },
  {
   "cell_type": "markdown",
   "metadata": {
    "id": "hsbueLTNHV58"
   },
   "source": [
    "- looks like the ratings fall in a relatively normal distribution\n",
    "- average danceability rating of 0.62"
   ]
  },
  {
   "cell_type": "code",
   "execution_count": 19,
   "metadata": {
    "colab": {
     "base_uri": "https://localhost:8080/"
    },
    "executionInfo": {
     "elapsed": 5,
     "status": "ok",
     "timestamp": 1643411761733,
     "user": {
      "displayName": "Johnson Liang",
      "photoUrl": "https://lh3.googleusercontent.com/a/default-user=s64",
      "userId": "01439563269954497799"
     },
     "user_tz": 300
    },
    "id": "Zs6azMS6klWM",
    "outputId": "8b55cd62-00a6-498f-a7ed-d7dc66ef265b"
   },
   "outputs": [
    {
     "data": {
      "text/plain": [
       "count    439519.000000\n",
       "mean          0.616962\n",
       "std           0.177984\n",
       "min           0.000000\n",
       "25%           0.515000\n",
       "50%           0.647000\n",
       "75%           0.743000\n",
       "max           0.994000\n",
       "Name: danceability, dtype: float64"
      ]
     },
     "execution_count": 19,
     "metadata": {},
     "output_type": "execute_result"
    }
   ],
   "source": [
    "danceability = df_tracks['danceability']\n",
    "danceability.describe()"
   ]
  },
  {
   "cell_type": "code",
   "execution_count": 20,
   "metadata": {
    "colab": {
     "base_uri": "https://localhost:8080/",
     "height": 279
    },
    "executionInfo": {
     "elapsed": 4633,
     "status": "ok",
     "timestamp": 1643411766363,
     "user": {
      "displayName": "Johnson Liang",
      "photoUrl": "https://lh3.googleusercontent.com/a/default-user=s64",
      "userId": "01439563269954497799"
     },
     "user_tz": 300
    },
    "id": "wxhp5V9TklWM",
    "outputId": "6cd1802f-6d5c-4cfb-80f3-7c904ffae500"
   },
   "outputs": [
    {
     "data": {
      "image/png": "[encoded data removed]",
      "text/plain": [
       "<Figure size 432x288 with 1 Axes>"
      ]
     },
     "metadata": {
      "needs_background": "light"
     },
     "output_type": "display_data"
    }
   ],
   "source": [
    "dance_plot = sns.distplot(danceability)"
   ]
  },
  {
   "cell_type": "markdown",
   "metadata": {
    "id": "I5NopXwQklWM"
   },
   "source": [
    "**<font size=\"5\">Hypotheses Testing</font>**"
   ]
  },
  {
   "cell_type": "markdown",
   "metadata": {
    "id": "LYV12eWzklWM"
   },
   "source": [
    "I will be testing the significance of these attributes against the \"popularity\" variable. \n",
    "I will also be using an alpha of (0.05). \n",
    "1. Year \n",
    "2. Duration\n",
    "3. Energy Rating\n",
    "4. Danceability Rating"
   ]
  },
  {
   "cell_type": "markdown",
   "metadata": {
    "id": "Ryqne4SHklWM"
   },
   "source": [
    "**<font size=\"3\">Hypothesis 1 (Years): Is there a significant difference in popularity between soundtracks released prior to 2010 vs. tracks released thereafter?</font>**\n",
    "\n",
    "1. H₀: µ₁ - µ₂ = 0 (No significant difference between popularity means of the 2 groups - tracks released during/after 2010, and tracks released before 2010.)\n",
    "2. Hₐ: µ₁ - µ₂ ≠ 0 (There is a significant difference between the 2 groups)"
   ]
  },
  {
   "cell_type": "code",
   "execution_count": 21,
   "metadata": {
    "colab": {
     "base_uri": "https://localhost:8080/",
     "height": 364
    },
    "executionInfo": {
     "elapsed": 183,
     "status": "ok",
     "timestamp": 1643411766539,
     "user": {
      "displayName": "Johnson Liang",
      "photoUrl": "https://lh3.googleusercontent.com/a/default-user=s64",
      "userId": "01439563269954497799"
     },
     "user_tz": 300
    },
    "id": "kx4oKiCoubAD",
    "outputId": "a152a057-7306-41f5-d7a1-4539c98028b2"
   },
   "outputs": [
    {
     "data": {
      "text/html": [
       "<div>\n",
       "<style scoped>\n",
       "    .dataframe tbody tr th:only-of-type {\n",
       "        vertical-align: middle;\n",
       "    }\n",
       "\n",
       "    .dataframe tbody tr th {\n",
       "        vertical-align: top;\n",
       "    }\n",
       "\n",
       "    .dataframe thead th {\n",
       "        text-align: right;\n",
       "    }\n",
       "</style>\n",
       "<table border=\"1\" class=\"dataframe\">\n",
       "  <thead>\n",
       "    <tr style=\"text-align: right;\">\n",
       "      <th></th>\n",
       "      <th>Index Num</th>\n",
       "      <th>popularity</th>\n",
       "      <th>year</th>\n",
       "      <th>acousticness</th>\n",
       "      <th>danceability</th>\n",
       "      <th>duration_ms</th>\n",
       "      <th>seconds</th>\n",
       "      <th>energy</th>\n",
       "      <th>instrumentalness</th>\n",
       "      <th>key</th>\n",
       "      <th>liveness</th>\n",
       "      <th>loudness</th>\n",
       "      <th>mode</th>\n",
       "      <th>speechiness</th>\n",
       "      <th>tempo</th>\n",
       "      <th>time_signature</th>\n",
       "      <th>valence</th>\n",
       "    </tr>\n",
       "  </thead>\n",
       "  <tbody>\n",
       "    <tr>\n",
       "      <th>count</th>\n",
       "      <td>373209.00000</td>\n",
       "      <td>373209.000000</td>\n",
       "      <td>373209.000000</td>\n",
       "      <td>373209.000000</td>\n",
       "      <td>373209.000000</td>\n",
       "      <td>3.732090e+05</td>\n",
       "      <td>373209.000000</td>\n",
       "      <td>373209.000000</td>\n",
       "      <td>373209.000000</td>\n",
       "      <td>373209.000000</td>\n",
       "      <td>373209.000000</td>\n",
       "      <td>373209.000000</td>\n",
       "      <td>373209.000000</td>\n",
       "      <td>373209.000000</td>\n",
       "      <td>373209.000000</td>\n",
       "      <td>373209.000000</td>\n",
       "      <td>373209.000000</td>\n",
       "    </tr>\n",
       "    <tr>\n",
       "      <th>mean</th>\n",
       "      <td>223321.12060</td>\n",
       "      <td>22.320678</td>\n",
       "      <td>2017.959251</td>\n",
       "      <td>0.323210</td>\n",
       "      <td>0.625773</td>\n",
       "      <td>2.088436e+05</td>\n",
       "      <td>208.843598</td>\n",
       "      <td>0.585877</td>\n",
       "      <td>0.195911</td>\n",
       "      <td>5.289010</td>\n",
       "      <td>0.204714</td>\n",
       "      <td>-9.868242</td>\n",
       "      <td>0.565978</td>\n",
       "      <td>0.194732</td>\n",
       "      <td>119.605038</td>\n",
       "      <td>3.883165</td>\n",
       "      <td>0.464930</td>\n",
       "    </tr>\n",
       "    <tr>\n",
       "      <th>std</th>\n",
       "      <td>127270.24653</td>\n",
       "      <td>18.392193</td>\n",
       "      <td>2.870854</td>\n",
       "      <td>0.315194</td>\n",
       "      <td>0.176093</td>\n",
       "      <td>1.214392e+05</td>\n",
       "      <td>121.439178</td>\n",
       "      <td>0.246250</td>\n",
       "      <td>0.344515</td>\n",
       "      <td>3.617998</td>\n",
       "      <td>0.173535</td>\n",
       "      <td>5.902328</td>\n",
       "      <td>0.495628</td>\n",
       "      <td>0.249898</td>\n",
       "      <td>30.197219</td>\n",
       "      <td>0.545824</td>\n",
       "      <td>0.250668</td>\n",
       "    </tr>\n",
       "    <tr>\n",
       "      <th>min</th>\n",
       "      <td>0.00000</td>\n",
       "      <td>0.000000</td>\n",
       "      <td>2010.000000</td>\n",
       "      <td>0.000000</td>\n",
       "      <td>0.000000</td>\n",
       "      <td>1.864000e+03</td>\n",
       "      <td>1.864000</td>\n",
       "      <td>0.000000</td>\n",
       "      <td>0.000000</td>\n",
       "      <td>0.000000</td>\n",
       "      <td>0.000000</td>\n",
       "      <td>-60.000000</td>\n",
       "      <td>0.000000</td>\n",
       "      <td>0.000000</td>\n",
       "      <td>0.000000</td>\n",
       "      <td>0.000000</td>\n",
       "      <td>0.000000</td>\n",
       "    </tr>\n",
       "    <tr>\n",
       "      <th>25%</th>\n",
       "      <td>112684.00000</td>\n",
       "      <td>7.000000</td>\n",
       "      <td>2016.000000</td>\n",
       "      <td>0.038900</td>\n",
       "      <td>0.527000</td>\n",
       "      <td>1.518750e+05</td>\n",
       "      <td>151.875000</td>\n",
       "      <td>0.417000</td>\n",
       "      <td>0.000000</td>\n",
       "      <td>2.000000</td>\n",
       "      <td>0.099000</td>\n",
       "      <td>-12.194000</td>\n",
       "      <td>0.000000</td>\n",
       "      <td>0.043400</td>\n",
       "      <td>95.914000</td>\n",
       "      <td>4.000000</td>\n",
       "      <td>0.266000</td>\n",
       "    </tr>\n",
       "    <tr>\n",
       "      <th>50%</th>\n",
       "      <td>224079.00000</td>\n",
       "      <td>19.000000</td>\n",
       "      <td>2019.000000</td>\n",
       "      <td>0.214000</td>\n",
       "      <td>0.656000</td>\n",
       "      <td>1.955290e+05</td>\n",
       "      <td>195.529000</td>\n",
       "      <td>0.610000</td>\n",
       "      <td>0.000019</td>\n",
       "      <td>5.000000</td>\n",
       "      <td>0.129000</td>\n",
       "      <td>-8.313000</td>\n",
       "      <td>1.000000</td>\n",
       "      <td>0.076600</td>\n",
       "      <td>120.042000</td>\n",
       "      <td>4.000000</td>\n",
       "      <td>0.458000</td>\n",
       "    </tr>\n",
       "    <tr>\n",
       "      <th>75%</th>\n",
       "      <td>334473.00000</td>\n",
       "      <td>35.000000</td>\n",
       "      <td>2020.000000</td>\n",
       "      <td>0.563000</td>\n",
       "      <td>0.750000</td>\n",
       "      <td>2.408490e+05</td>\n",
       "      <td>240.849000</td>\n",
       "      <td>0.783000</td>\n",
       "      <td>0.194000</td>\n",
       "      <td>8.000000</td>\n",
       "      <td>0.262000</td>\n",
       "      <td>-5.903000</td>\n",
       "      <td>1.000000</td>\n",
       "      <td>0.244000</td>\n",
       "      <td>139.867000</td>\n",
       "      <td>4.000000</td>\n",
       "      <td>0.658000</td>\n",
       "    </tr>\n",
       "    <tr>\n",
       "      <th>max</th>\n",
       "      <td>439892.00000</td>\n",
       "      <td>100.000000</td>\n",
       "      <td>2021.000000</td>\n",
       "      <td>0.996000</td>\n",
       "      <td>0.994000</td>\n",
       "      <td>6.024647e+06</td>\n",
       "      <td>6024.647000</td>\n",
       "      <td>1.000000</td>\n",
       "      <td>1.000000</td>\n",
       "      <td>11.000000</td>\n",
       "      <td>0.998000</td>\n",
       "      <td>5.285000</td>\n",
       "      <td>1.000000</td>\n",
       "      <td>0.972000</td>\n",
       "      <td>249.810000</td>\n",
       "      <td>5.000000</td>\n",
       "      <td>1.000000</td>\n",
       "    </tr>\n",
       "  </tbody>\n",
       "</table>\n",
       "</div>"
      ],
      "text/plain": [
       "          Index Num     popularity           year   acousticness  \\\n",
       "count  373209.00000  373209.000000  373209.000000  373209.000000   \n",
       "mean   223321.12060      22.320678    2017.959251       0.323210   \n",
       "std    127270.24653      18.392193       2.870854       0.315194   \n",
       "min         0.00000       0.000000    2010.000000       0.000000   \n",
       "25%    112684.00000       7.000000    2016.000000       0.038900   \n",
       "50%    224079.00000      19.000000    2019.000000       0.214000   \n",
       "75%    334473.00000      35.000000    2020.000000       0.563000   \n",
       "max    439892.00000     100.000000    2021.000000       0.996000   \n",
       "\n",
       "        danceability   duration_ms        seconds         energy  \\\n",
       "count  373209.000000  3.732090e+05  373209.000000  373209.000000   \n",
       "mean        0.625773  2.088436e+05     208.843598       0.585877   \n",
       "std         0.176093  1.214392e+05     121.439178       0.246250   \n",
       "min         0.000000  1.864000e+03       1.864000       0.000000   \n",
       "25%         0.527000  1.518750e+05     151.875000       0.417000   \n",
       "50%         0.656000  1.955290e+05     195.529000       0.610000   \n",
       "75%         0.750000  2.408490e+05     240.849000       0.783000   \n",
       "max         0.994000  6.024647e+06    6024.647000       1.000000   \n",
       "\n",
       "       instrumentalness            key       liveness       loudness  \\\n",
       "count     373209.000000  373209.000000  373209.000000  373209.000000   \n",
       "mean           0.195911       5.289010       0.204714      -9.868242   \n",
       "std            0.344515       3.617998       0.173535       5.902328   \n",
       "min            0.000000       0.000000       0.000000     -60.000000   \n",
       "25%            0.000000       2.000000       0.099000     -12.194000   \n",
       "50%            0.000019       5.000000       0.129000      -8.313000   \n",
       "75%            0.194000       8.000000       0.262000      -5.903000   \n",
       "max            1.000000      11.000000       0.998000       5.285000   \n",
       "\n",
       "                mode    speechiness          tempo  time_signature  \\\n",
       "count  373209.000000  373209.000000  373209.000000   373209.000000   \n",
       "mean        0.565978       0.194732     119.605038        3.883165   \n",
       "std         0.495628       0.249898      30.197219        0.545824   \n",
       "min         0.000000       0.000000       0.000000        0.000000   \n",
       "25%         0.000000       0.043400      95.914000        4.000000   \n",
       "50%         1.000000       0.076600     120.042000        4.000000   \n",
       "75%         1.000000       0.244000     139.867000        4.000000   \n",
       "max         1.000000       0.972000     249.810000        5.000000   \n",
       "\n",
       "             valence  \n",
       "count  373209.000000  \n",
       "mean        0.464930  \n",
       "std         0.250668  \n",
       "min         0.000000  \n",
       "25%         0.266000  \n",
       "50%         0.458000  \n",
       "75%         0.658000  \n",
       "max         1.000000  "
      ]
     },
     "execution_count": 21,
     "metadata": {},
     "output_type": "execute_result"
    }
   ],
   "source": [
    "## create df for tracks with year >= 2010 and use describe function to make sure\n",
    "df_after2010 = df_tracks.loc[df_tracks['year'] >= 2010]\n",
    "df_after2010.describe()"
   ]
  },
  {
   "cell_type": "code",
   "execution_count": 22,
   "metadata": {
    "colab": {
     "base_uri": "https://localhost:8080/",
     "height": 364
    },
    "executionInfo": {
     "elapsed": 9,
     "status": "ok",
     "timestamp": 1643411766539,
     "user": {
      "displayName": "Johnson Liang",
      "photoUrl": "https://lh3.googleusercontent.com/a/default-user=s64",
      "userId": "01439563269954497799"
     },
     "user_tz": 300
    },
    "id": "JiJCRHoj1gop",
    "outputId": "0ef97a17-043f-4a98-e486-e74f456af7c4"
   },
   "outputs": [
    {
     "data": {
      "text/html": [
       "<div>\n",
       "<style scoped>\n",
       "    .dataframe tbody tr th:only-of-type {\n",
       "        vertical-align: middle;\n",
       "    }\n",
       "\n",
       "    .dataframe tbody tr th {\n",
       "        vertical-align: top;\n",
       "    }\n",
       "\n",
       "    .dataframe thead th {\n",
       "        text-align: right;\n",
       "    }\n",
       "</style>\n",
       "<table border=\"1\" class=\"dataframe\">\n",
       "  <thead>\n",
       "    <tr style=\"text-align: right;\">\n",
       "      <th></th>\n",
       "      <th>Index Num</th>\n",
       "      <th>popularity</th>\n",
       "      <th>year</th>\n",
       "      <th>acousticness</th>\n",
       "      <th>danceability</th>\n",
       "      <th>duration_ms</th>\n",
       "      <th>seconds</th>\n",
       "      <th>energy</th>\n",
       "      <th>instrumentalness</th>\n",
       "      <th>key</th>\n",
       "      <th>liveness</th>\n",
       "      <th>loudness</th>\n",
       "      <th>mode</th>\n",
       "      <th>speechiness</th>\n",
       "      <th>tempo</th>\n",
       "      <th>time_signature</th>\n",
       "      <th>valence</th>\n",
       "    </tr>\n",
       "  </thead>\n",
       "  <tbody>\n",
       "    <tr>\n",
       "      <th>count</th>\n",
       "      <td>66310.000000</td>\n",
       "      <td>66310.000000</td>\n",
       "      <td>66310.000000</td>\n",
       "      <td>66310.000000</td>\n",
       "      <td>66310.000000</td>\n",
       "      <td>6.631000e+04</td>\n",
       "      <td>66310.000000</td>\n",
       "      <td>66310.000000</td>\n",
       "      <td>66310.000000</td>\n",
       "      <td>66310.000000</td>\n",
       "      <td>66310.000000</td>\n",
       "      <td>66310.000000</td>\n",
       "      <td>66310.000000</td>\n",
       "      <td>66310.000000</td>\n",
       "      <td>66310.000000</td>\n",
       "      <td>66310.000000</td>\n",
       "      <td>66310.000000</td>\n",
       "    </tr>\n",
       "    <tr>\n",
       "      <th>mean</th>\n",
       "      <td>201305.940688</td>\n",
       "      <td>25.507631</td>\n",
       "      <td>1998.965103</td>\n",
       "      <td>0.383989</td>\n",
       "      <td>0.567371</td>\n",
       "      <td>2.390156e+05</td>\n",
       "      <td>239.015574</td>\n",
       "      <td>0.580246</td>\n",
       "      <td>0.148093</td>\n",
       "      <td>5.289926</td>\n",
       "      <td>0.236154</td>\n",
       "      <td>-10.462585</td>\n",
       "      <td>0.620842</td>\n",
       "      <td>0.174725</td>\n",
       "      <td>117.197834</td>\n",
       "      <td>3.852948</td>\n",
       "      <td>0.533894</td>\n",
       "    </tr>\n",
       "    <tr>\n",
       "      <th>std</th>\n",
       "      <td>123680.428302</td>\n",
       "      <td>18.973526</td>\n",
       "      <td>10.623289</td>\n",
       "      <td>0.342850</td>\n",
       "      <td>0.180421</td>\n",
       "      <td>1.346890e+05</td>\n",
       "      <td>134.688988</td>\n",
       "      <td>0.264078</td>\n",
       "      <td>0.301400</td>\n",
       "      <td>3.544086</td>\n",
       "      <td>0.206821</td>\n",
       "      <td>5.843750</td>\n",
       "      <td>0.485181</td>\n",
       "      <td>0.266636</td>\n",
       "      <td>30.132641</td>\n",
       "      <td>0.548526</td>\n",
       "      <td>0.260328</td>\n",
       "    </tr>\n",
       "    <tr>\n",
       "      <th>min</th>\n",
       "      <td>114.000000</td>\n",
       "      <td>0.000000</td>\n",
       "      <td>1950.000000</td>\n",
       "      <td>0.000000</td>\n",
       "      <td>0.000000</td>\n",
       "      <td>2.000000e+03</td>\n",
       "      <td>2.000000</td>\n",
       "      <td>0.000000</td>\n",
       "      <td>0.000000</td>\n",
       "      <td>0.000000</td>\n",
       "      <td>0.000000</td>\n",
       "      <td>-60.000000</td>\n",
       "      <td>0.000000</td>\n",
       "      <td>0.000000</td>\n",
       "      <td>0.000000</td>\n",
       "      <td>0.000000</td>\n",
       "      <td>0.000000</td>\n",
       "    </tr>\n",
       "    <tr>\n",
       "      <th>25%</th>\n",
       "      <td>96014.500000</td>\n",
       "      <td>10.000000</td>\n",
       "      <td>1995.000000</td>\n",
       "      <td>0.044800</td>\n",
       "      <td>0.451000</td>\n",
       "      <td>1.738130e+05</td>\n",
       "      <td>173.813000</td>\n",
       "      <td>0.381000</td>\n",
       "      <td>0.000000</td>\n",
       "      <td>2.000000</td>\n",
       "      <td>0.098300</td>\n",
       "      <td>-13.297000</td>\n",
       "      <td>0.000000</td>\n",
       "      <td>0.036700</td>\n",
       "      <td>93.986000</td>\n",
       "      <td>4.000000</td>\n",
       "      <td>0.332000</td>\n",
       "    </tr>\n",
       "    <tr>\n",
       "      <th>50%</th>\n",
       "      <td>196351.500000</td>\n",
       "      <td>23.000000</td>\n",
       "      <td>2002.000000</td>\n",
       "      <td>0.301500</td>\n",
       "      <td>0.592000</td>\n",
       "      <td>2.255110e+05</td>\n",
       "      <td>225.511000</td>\n",
       "      <td>0.609000</td>\n",
       "      <td>0.000028</td>\n",
       "      <td>5.000000</td>\n",
       "      <td>0.148000</td>\n",
       "      <td>-8.998000</td>\n",
       "      <td>1.000000</td>\n",
       "      <td>0.052000</td>\n",
       "      <td>115.026000</td>\n",
       "      <td>4.000000</td>\n",
       "      <td>0.552000</td>\n",
       "    </tr>\n",
       "    <tr>\n",
       "      <th>75%</th>\n",
       "      <td>303837.750000</td>\n",
       "      <td>38.000000</td>\n",
       "      <td>2007.000000</td>\n",
       "      <td>0.696000</td>\n",
       "      <td>0.702000</td>\n",
       "      <td>2.788945e+05</td>\n",
       "      <td>278.894500</td>\n",
       "      <td>0.805000</td>\n",
       "      <td>0.034300</td>\n",
       "      <td>9.000000</td>\n",
       "      <td>0.315000</td>\n",
       "      <td>-6.211000</td>\n",
       "      <td>1.000000</td>\n",
       "      <td>0.144000</td>\n",
       "      <td>135.630750</td>\n",
       "      <td>4.000000</td>\n",
       "      <td>0.746000</td>\n",
       "    </tr>\n",
       "    <tr>\n",
       "      <th>max</th>\n",
       "      <td>439839.000000</td>\n",
       "      <td>86.000000</td>\n",
       "      <td>2009.000000</td>\n",
       "      <td>0.996000</td>\n",
       "      <td>0.988000</td>\n",
       "      <td>4.539000e+06</td>\n",
       "      <td>4539.000000</td>\n",
       "      <td>1.000000</td>\n",
       "      <td>1.000000</td>\n",
       "      <td>11.000000</td>\n",
       "      <td>1.000000</td>\n",
       "      <td>2.239000</td>\n",
       "      <td>1.000000</td>\n",
       "      <td>0.969000</td>\n",
       "      <td>243.372000</td>\n",
       "      <td>5.000000</td>\n",
       "      <td>1.000000</td>\n",
       "    </tr>\n",
       "  </tbody>\n",
       "</table>\n",
       "</div>"
      ],
      "text/plain": [
       "           Index Num    popularity          year  acousticness  danceability  \\\n",
       "count   66310.000000  66310.000000  66310.000000  66310.000000  66310.000000   \n",
       "mean   201305.940688     25.507631   1998.965103      0.383989      0.567371   \n",
       "std    123680.428302     18.973526     10.623289      0.342850      0.180421   \n",
       "min       114.000000      0.000000   1950.000000      0.000000      0.000000   \n",
       "25%     96014.500000     10.000000   1995.000000      0.044800      0.451000   \n",
       "50%    196351.500000     23.000000   2002.000000      0.301500      0.592000   \n",
       "75%    303837.750000     38.000000   2007.000000      0.696000      0.702000   \n",
       "max    439839.000000     86.000000   2009.000000      0.996000      0.988000   \n",
       "\n",
       "        duration_ms       seconds        energy  instrumentalness  \\\n",
       "count  6.631000e+04  66310.000000  66310.000000      66310.000000   \n",
       "mean   2.390156e+05    239.015574      0.580246          0.148093   \n",
       "std    1.346890e+05    134.688988      0.264078          0.301400   \n",
       "min    2.000000e+03      2.000000      0.000000          0.000000   \n",
       "25%    1.738130e+05    173.813000      0.381000          0.000000   \n",
       "50%    2.255110e+05    225.511000      0.609000          0.000028   \n",
       "75%    2.788945e+05    278.894500      0.805000          0.034300   \n",
       "max    4.539000e+06   4539.000000      1.000000          1.000000   \n",
       "\n",
       "                key      liveness      loudness          mode   speechiness  \\\n",
       "count  66310.000000  66310.000000  66310.000000  66310.000000  66310.000000   \n",
       "mean       5.289926      0.236154    -10.462585      0.620842      0.174725   \n",
       "std        3.544086      0.206821      5.843750      0.485181      0.266636   \n",
       "min        0.000000      0.000000    -60.000000      0.000000      0.000000   \n",
       "25%        2.000000      0.098300    -13.297000      0.000000      0.036700   \n",
       "50%        5.000000      0.148000     -8.998000      1.000000      0.052000   \n",
       "75%        9.000000      0.315000     -6.211000      1.000000      0.144000   \n",
       "max       11.000000      1.000000      2.239000      1.000000      0.969000   \n",
       "\n",
       "              tempo  time_signature       valence  \n",
       "count  66310.000000    66310.000000  66310.000000  \n",
       "mean     117.197834        3.852948      0.533894  \n",
       "std       30.132641        0.548526      0.260328  \n",
       "min        0.000000        0.000000      0.000000  \n",
       "25%       93.986000        4.000000      0.332000  \n",
       "50%      115.026000        4.000000      0.552000  \n",
       "75%      135.630750        4.000000      0.746000  \n",
       "max      243.372000        5.000000      1.000000  "
      ]
     },
     "execution_count": 22,
     "metadata": {},
     "output_type": "execute_result"
    }
   ],
   "source": [
    "df_before2010 = df_tracks.loc[df_tracks['year'] < 2010]\n",
    "df_before2010.describe()"
   ]
  },
  {
   "cell_type": "markdown",
   "metadata": {
    "id": "_6Tapzr32bcZ"
   },
   "source": [
    "**<font size=\"3\">Hypothesis 1 (Years): T-Test</font>**"
   ]
  },
  {
   "cell_type": "code",
   "execution_count": 23,
   "metadata": {
    "colab": {
     "base_uri": "https://localhost:8080/"
    },
    "executionInfo": {
     "elapsed": 9,
     "status": "ok",
     "timestamp": 1643411766539,
     "user": {
      "displayName": "Johnson Liang",
      "photoUrl": "https://lh3.googleusercontent.com/a/default-user=s64",
      "userId": "01439563269954497799"
     },
     "user_tz": 300
    },
    "id": "dCzrfCU1vs06",
    "outputId": "e97b98bc-fde6-4c93-c439-8faa092f8f24"
   },
   "outputs": [
    {
     "data": {
      "text/plain": [
       "Ttest_indResult(statistic=-40.91902384122793, pvalue=0.0)"
      ]
     },
     "execution_count": 23,
     "metadata": {},
     "output_type": "execute_result"
    }
   ],
   "source": [
    "# generates t-stat and p-value\n",
    "# popularity ratings not N.D., but large sample should still suffice for t-test\n",
    "stats.ttest_ind(df_after2010['popularity'], df_before2010['popularity'])"
   ]
  },
  {
   "cell_type": "markdown",
   "metadata": {
    "id": "avXpVrpX8AFX"
   },
   "source": [
    "- Reject null hypothesis because test shows a significant difference between the 2 tested groups with a p-value less than 0.05. \n",
    "- Popularity rating changes drastically for tracks released after 2010. \n"
   ]
  },
  {
   "cell_type": "markdown",
   "metadata": {
    "id": "GfOQy6VK9Ybu"
   },
   "source": [
    "**<font size=\"3\">Hypothesis 1 (Years): Confidence Intervals</font>**"
   ]
  },
  {
   "cell_type": "code",
   "execution_count": 24,
   "metadata": {
    "colab": {
     "base_uri": "https://localhost:8080/",
     "height": 35
    },
    "executionInfo": {
     "elapsed": 6,
     "status": "ok",
     "timestamp": 1643411766540,
     "user": {
      "displayName": "Johnson Liang",
      "photoUrl": "https://lh3.googleusercontent.com/a/default-user=s64",
      "userId": "01439563269954497799"
     },
     "user_tz": 300
    },
    "id": "Iu01lb8h-Auh",
    "outputId": "a4ec7b5f-ebb8-429f-a4ff-39c6c49055e9"
   },
   "outputs": [
    {
     "data": {
      "text/plain": [
       "'The difference in means of popularity at a 95% Confidence Interval is between 3.030946511903916 and 3.3429586861757743.'"
      ]
     },
     "execution_count": 24,
     "metadata": {},
     "output_type": "execute_result"
    }
   ],
   "source": [
    "#create a function to output Confidence Intervals\n",
    "def get_95_ci(array1, array2):\n",
    "  sample1_n = array1.shape[0]\n",
    "  sample2_n = array2.shape[0]\n",
    "  sample1_mean = array1.mean()\n",
    "  sample2_mean = array2.mean()\n",
    "  sample1_var = array1.var()\n",
    "  sample2_var = array2.var()\n",
    "  mean_difference = sample2_mean - sample1_mean\n",
    "  std_err_dif = math.sqrt((sample1_var/sample1_n) + (sample2_var/sample2_n))\n",
    "  margin_of_error = 1.96 * std_err_dif\n",
    "  ci_lower = mean_difference - margin_of_error\n",
    "  ci_upper = mean_difference + margin_of_error\n",
    "  return (\"The difference in means of popularity at a 95% Confidence Interval is between \"+str(ci_lower)+\" and \"+str(ci_upper)+\".\")\n",
    "\n",
    "get_95_ci(df_after2010['popularity'], df_before2010['popularity'])"
   ]
  },
  {
   "cell_type": "code",
   "execution_count": 25,
   "metadata": {
    "colab": {
     "base_uri": "https://localhost:8080/",
     "height": 386
    },
    "executionInfo": {
     "elapsed": 2101,
     "status": "ok",
     "timestamp": 1643411768636,
     "user": {
      "displayName": "Johnson Liang",
      "photoUrl": "https://lh3.googleusercontent.com/a/default-user=s64",
      "userId": "01439563269954497799"
     },
     "user_tz": 300
    },
    "id": "_H5HKuqoAHEz",
    "outputId": "f305cde2-3022-437b-fc0d-c1c958037fe0"
   },
   "outputs": [
    {
     "data": {
      "text/plain": [
       "<seaborn.axisgrid.FacetGrid at 0x1305f4fee08>"
      ]
     },
     "execution_count": 25,
     "metadata": {},
     "output_type": "execute_result"
    },
    {
     "data": {
      "image/png": "[encoded data removed]",
      "text/plain": [
       "<Figure size 360x360 with 1 Axes>"
      ]
     },
     "metadata": {
      "needs_background": "light"
     },
     "output_type": "display_data"
    }
   ],
   "source": [
    "sns.displot(x = 'year', kind='kde',data = df_after2010)"
   ]
  },
  {
   "cell_type": "code",
   "execution_count": 26,
   "metadata": {
    "colab": {
     "base_uri": "https://localhost:8080/",
     "height": 386
    },
    "executionInfo": {
     "elapsed": 800,
     "status": "ok",
     "timestamp": 1643411769435,
     "user": {
      "displayName": "Johnson Liang",
      "photoUrl": "https://lh3.googleusercontent.com/a/default-user=s64",
      "userId": "01439563269954497799"
     },
     "user_tz": 300
    },
    "id": "VA2K7nnoA644",
    "outputId": "d7d7995b-1051-41d8-8bb6-ba4e2818af5b"
   },
   "outputs": [
    {
     "data": {
      "text/plain": [
       "<seaborn.axisgrid.FacetGrid at 0x1305f51a248>"
      ]
     },
     "execution_count": 26,
     "metadata": {},
     "output_type": "execute_result"
    },
    {
     "data": {
      "image/png": "[encoded data removed]",
      "text/plain": [
       "<Figure size 360x360 with 1 Axes>"
      ]
     },
     "metadata": {
      "needs_background": "light"
     },
     "output_type": "display_data"
    }
   ],
   "source": [
    "sns.displot(x = 'year', kind='kde',data = df_before2010)"
   ]
  },
  {
   "cell_type": "markdown",
   "metadata": {
    "id": "hP0mXvmrklWM"
   },
   "source": [
    "**<font size=\"3\">Hypothesis 2 (Duration): Is there a significant difference in popularity between soundtracks with a duration >= 200s vs. tracks with duration < 200s?</font>**\n",
    "    \n",
    "1. H₀: µ₁ - µ₂ = 0 (No significant difference between popularity means of the 2 groups - tracks with a duration of 200 seconds and higher, and tracks shorter than 200 seconds.)\n",
    "2. Hₐ: µ₁ - µ₂ ≠ 0 (There is a significant difference between the 2 groups)\n",
    "    "
   ]
  },
  {
   "cell_type": "code",
   "execution_count": 27,
   "metadata": {
    "colab": {
     "base_uri": "https://localhost:8080/",
     "height": 364
    },
    "executionInfo": {
     "elapsed": 316,
     "status": "ok",
     "timestamp": 1643411769749,
     "user": {
      "displayName": "Johnson Liang",
      "photoUrl": "https://lh3.googleusercontent.com/a/default-user=s64",
      "userId": "01439563269954497799"
     },
     "user_tz": 300
    },
    "id": "Ywn03BD6klWN",
    "outputId": "fc273e4c-e4b8-4030-925d-965b77c5f20a"
   },
   "outputs": [
    {
     "data": {
      "text/html": [
       "<div>\n",
       "<style scoped>\n",
       "    .dataframe tbody tr th:only-of-type {\n",
       "        vertical-align: middle;\n",
       "    }\n",
       "\n",
       "    .dataframe tbody tr th {\n",
       "        vertical-align: top;\n",
       "    }\n",
       "\n",
       "    .dataframe thead th {\n",
       "        text-align: right;\n",
       "    }\n",
       "</style>\n",
       "<table border=\"1\" class=\"dataframe\">\n",
       "  <thead>\n",
       "    <tr style=\"text-align: right;\">\n",
       "      <th></th>\n",
       "      <th>Index Num</th>\n",
       "      <th>popularity</th>\n",
       "      <th>year</th>\n",
       "      <th>acousticness</th>\n",
       "      <th>danceability</th>\n",
       "      <th>duration_ms</th>\n",
       "      <th>seconds</th>\n",
       "      <th>energy</th>\n",
       "      <th>instrumentalness</th>\n",
       "      <th>key</th>\n",
       "      <th>liveness</th>\n",
       "      <th>loudness</th>\n",
       "      <th>mode</th>\n",
       "      <th>speechiness</th>\n",
       "      <th>tempo</th>\n",
       "      <th>time_signature</th>\n",
       "      <th>valence</th>\n",
       "    </tr>\n",
       "  </thead>\n",
       "  <tbody>\n",
       "    <tr>\n",
       "      <th>count</th>\n",
       "      <td>218294.000000</td>\n",
       "      <td>218294.000000</td>\n",
       "      <td>218294.000000</td>\n",
       "      <td>218294.000000</td>\n",
       "      <td>218294.000000</td>\n",
       "      <td>2.182940e+05</td>\n",
       "      <td>218294.000000</td>\n",
       "      <td>218294.000000</td>\n",
       "      <td>218294.000000</td>\n",
       "      <td>218294.000000</td>\n",
       "      <td>218294.000000</td>\n",
       "      <td>218294.000000</td>\n",
       "      <td>218294.000000</td>\n",
       "      <td>218294.000000</td>\n",
       "      <td>218294.000000</td>\n",
       "      <td>218294.000000</td>\n",
       "      <td>218294.000000</td>\n",
       "    </tr>\n",
       "    <tr>\n",
       "      <th>mean</th>\n",
       "      <td>218131.218224</td>\n",
       "      <td>23.168218</td>\n",
       "      <td>2013.801387</td>\n",
       "      <td>0.293291</td>\n",
       "      <td>0.597681</td>\n",
       "      <td>2.822634e+05</td>\n",
       "      <td>282.263398</td>\n",
       "      <td>0.625179</td>\n",
       "      <td>0.191363</td>\n",
       "      <td>5.338122</td>\n",
       "      <td>0.202364</td>\n",
       "      <td>-8.979628</td>\n",
       "      <td>0.561720</td>\n",
       "      <td>0.130312</td>\n",
       "      <td>121.024160</td>\n",
       "      <td>3.911757</td>\n",
       "      <td>0.459439</td>\n",
       "    </tr>\n",
       "    <tr>\n",
       "      <th>std</th>\n",
       "      <td>127950.616495</td>\n",
       "      <td>18.843151</td>\n",
       "      <td>8.740754</td>\n",
       "      <td>0.312546</td>\n",
       "      <td>0.178182</td>\n",
       "      <td>1.407874e+05</td>\n",
       "      <td>140.787449</td>\n",
       "      <td>0.242709</td>\n",
       "      <td>0.335026</td>\n",
       "      <td>3.576931</td>\n",
       "      <td>0.179329</td>\n",
       "      <td>5.205711</td>\n",
       "      <td>0.496177</td>\n",
       "      <td>0.179284</td>\n",
       "      <td>28.651607</td>\n",
       "      <td>0.428596</td>\n",
       "      <td>0.254959</td>\n",
       "    </tr>\n",
       "    <tr>\n",
       "      <th>min</th>\n",
       "      <td>0.000000</td>\n",
       "      <td>0.000000</td>\n",
       "      <td>1950.000000</td>\n",
       "      <td>0.000000</td>\n",
       "      <td>0.000000</td>\n",
       "      <td>2.000000e+05</td>\n",
       "      <td>200.000000</td>\n",
       "      <td>0.000000</td>\n",
       "      <td>0.000000</td>\n",
       "      <td>0.000000</td>\n",
       "      <td>0.000000</td>\n",
       "      <td>-52.275000</td>\n",
       "      <td>0.000000</td>\n",
       "      <td>0.000000</td>\n",
       "      <td>0.000000</td>\n",
       "      <td>0.000000</td>\n",
       "      <td>0.000000</td>\n",
       "    </tr>\n",
       "    <tr>\n",
       "      <th>25%</th>\n",
       "      <td>105520.000000</td>\n",
       "      <td>7.000000</td>\n",
       "      <td>2012.000000</td>\n",
       "      <td>0.022600</td>\n",
       "      <td>0.487000</td>\n",
       "      <td>2.205260e+05</td>\n",
       "      <td>220.526000</td>\n",
       "      <td>0.469000</td>\n",
       "      <td>0.000000</td>\n",
       "      <td>2.000000</td>\n",
       "      <td>0.095400</td>\n",
       "      <td>-10.833000</td>\n",
       "      <td>0.000000</td>\n",
       "      <td>0.038700</td>\n",
       "      <td>98.084000</td>\n",
       "      <td>4.000000</td>\n",
       "      <td>0.251000</td>\n",
       "    </tr>\n",
       "    <tr>\n",
       "      <th>50%</th>\n",
       "      <td>218467.000000</td>\n",
       "      <td>20.000000</td>\n",
       "      <td>2017.000000</td>\n",
       "      <td>0.164000</td>\n",
       "      <td>0.623000</td>\n",
       "      <td>2.477780e+05</td>\n",
       "      <td>247.778000</td>\n",
       "      <td>0.660000</td>\n",
       "      <td>0.000065</td>\n",
       "      <td>6.000000</td>\n",
       "      <td>0.126000</td>\n",
       "      <td>-7.666000</td>\n",
       "      <td>1.000000</td>\n",
       "      <td>0.057000</td>\n",
       "      <td>121.994000</td>\n",
       "      <td>4.000000</td>\n",
       "      <td>0.446000</td>\n",
       "    </tr>\n",
       "    <tr>\n",
       "      <th>75%</th>\n",
       "      <td>328668.750000</td>\n",
       "      <td>36.000000</td>\n",
       "      <td>2020.000000</td>\n",
       "      <td>0.513000</td>\n",
       "      <td>0.729000</td>\n",
       "      <td>2.996268e+05</td>\n",
       "      <td>299.626750</td>\n",
       "      <td>0.822000</td>\n",
       "      <td>0.201000</td>\n",
       "      <td>9.000000</td>\n",
       "      <td>0.255000</td>\n",
       "      <td>-5.586000</td>\n",
       "      <td>1.000000</td>\n",
       "      <td>0.136000</td>\n",
       "      <td>138.989000</td>\n",
       "      <td>4.000000</td>\n",
       "      <td>0.659000</td>\n",
       "    </tr>\n",
       "    <tr>\n",
       "      <th>max</th>\n",
       "      <td>439891.000000</td>\n",
       "      <td>100.000000</td>\n",
       "      <td>2021.000000</td>\n",
       "      <td>0.996000</td>\n",
       "      <td>0.992000</td>\n",
       "      <td>6.024647e+06</td>\n",
       "      <td>6024.647000</td>\n",
       "      <td>1.000000</td>\n",
       "      <td>1.000000</td>\n",
       "      <td>11.000000</td>\n",
       "      <td>1.000000</td>\n",
       "      <td>4.494000</td>\n",
       "      <td>1.000000</td>\n",
       "      <td>0.971000</td>\n",
       "      <td>249.810000</td>\n",
       "      <td>5.000000</td>\n",
       "      <td>1.000000</td>\n",
       "    </tr>\n",
       "  </tbody>\n",
       "</table>\n",
       "</div>"
      ],
      "text/plain": [
       "           Index Num     popularity           year   acousticness  \\\n",
       "count  218294.000000  218294.000000  218294.000000  218294.000000   \n",
       "mean   218131.218224      23.168218    2013.801387       0.293291   \n",
       "std    127950.616495      18.843151       8.740754       0.312546   \n",
       "min         0.000000       0.000000    1950.000000       0.000000   \n",
       "25%    105520.000000       7.000000    2012.000000       0.022600   \n",
       "50%    218467.000000      20.000000    2017.000000       0.164000   \n",
       "75%    328668.750000      36.000000    2020.000000       0.513000   \n",
       "max    439891.000000     100.000000    2021.000000       0.996000   \n",
       "\n",
       "        danceability   duration_ms        seconds         energy  \\\n",
       "count  218294.000000  2.182940e+05  218294.000000  218294.000000   \n",
       "mean        0.597681  2.822634e+05     282.263398       0.625179   \n",
       "std         0.178182  1.407874e+05     140.787449       0.242709   \n",
       "min         0.000000  2.000000e+05     200.000000       0.000000   \n",
       "25%         0.487000  2.205260e+05     220.526000       0.469000   \n",
       "50%         0.623000  2.477780e+05     247.778000       0.660000   \n",
       "75%         0.729000  2.996268e+05     299.626750       0.822000   \n",
       "max         0.992000  6.024647e+06    6024.647000       1.000000   \n",
       "\n",
       "       instrumentalness            key       liveness       loudness  \\\n",
       "count     218294.000000  218294.000000  218294.000000  218294.000000   \n",
       "mean           0.191363       5.338122       0.202364      -8.979628   \n",
       "std            0.335026       3.576931       0.179329       5.205711   \n",
       "min            0.000000       0.000000       0.000000     -52.275000   \n",
       "25%            0.000000       2.000000       0.095400     -10.833000   \n",
       "50%            0.000065       6.000000       0.126000      -7.666000   \n",
       "75%            0.201000       9.000000       0.255000      -5.586000   \n",
       "max            1.000000      11.000000       1.000000       4.494000   \n",
       "\n",
       "                mode    speechiness          tempo  time_signature  \\\n",
       "count  218294.000000  218294.000000  218294.000000   218294.000000   \n",
       "mean        0.561720       0.130312     121.024160        3.911757   \n",
       "std         0.496177       0.179284      28.651607        0.428596   \n",
       "min         0.000000       0.000000       0.000000        0.000000   \n",
       "25%         0.000000       0.038700      98.084000        4.000000   \n",
       "50%         1.000000       0.057000     121.994000        4.000000   \n",
       "75%         1.000000       0.136000     138.989000        4.000000   \n",
       "max         1.000000       0.971000     249.810000        5.000000   \n",
       "\n",
       "             valence  \n",
       "count  218294.000000  \n",
       "mean        0.459439  \n",
       "std         0.254959  \n",
       "min         0.000000  \n",
       "25%         0.251000  \n",
       "50%         0.446000  \n",
       "75%         0.659000  \n",
       "max         1.000000  "
      ]
     },
     "execution_count": 27,
     "metadata": {},
     "output_type": "execute_result"
    }
   ],
   "source": [
    "## create df for tracks with duration longer than 200 seconds and use describe function to make sure\n",
    "df_duration200 = df_tracks.loc[df_tracks['seconds'] >= 200]\n",
    "df_duration200.describe()"
   ]
  },
  {
   "cell_type": "code",
   "execution_count": 28,
   "metadata": {
    "colab": {
     "base_uri": "https://localhost:8080/",
     "height": 364
    },
    "executionInfo": {
     "elapsed": 288,
     "status": "ok",
     "timestamp": 1643411770036,
     "user": {
      "displayName": "Johnson Liang",
      "photoUrl": "https://lh3.googleusercontent.com/a/default-user=s64",
      "userId": "01439563269954497799"
     },
     "user_tz": 300
    },
    "id": "1u4F7JivCBZr",
    "outputId": "1dde0850-d5b7-4181-e0e0-d73f5811a378"
   },
   "outputs": [
    {
     "data": {
      "text/html": [
       "<div>\n",
       "<style scoped>\n",
       "    .dataframe tbody tr th:only-of-type {\n",
       "        vertical-align: middle;\n",
       "    }\n",
       "\n",
       "    .dataframe tbody tr th {\n",
       "        vertical-align: top;\n",
       "    }\n",
       "\n",
       "    .dataframe thead th {\n",
       "        text-align: right;\n",
       "    }\n",
       "</style>\n",
       "<table border=\"1\" class=\"dataframe\">\n",
       "  <thead>\n",
       "    <tr style=\"text-align: right;\">\n",
       "      <th></th>\n",
       "      <th>Index Num</th>\n",
       "      <th>popularity</th>\n",
       "      <th>year</th>\n",
       "      <th>acousticness</th>\n",
       "      <th>danceability</th>\n",
       "      <th>duration_ms</th>\n",
       "      <th>seconds</th>\n",
       "      <th>energy</th>\n",
       "      <th>instrumentalness</th>\n",
       "      <th>key</th>\n",
       "      <th>liveness</th>\n",
       "      <th>loudness</th>\n",
       "      <th>mode</th>\n",
       "      <th>speechiness</th>\n",
       "      <th>tempo</th>\n",
       "      <th>time_signature</th>\n",
       "      <th>valence</th>\n",
       "    </tr>\n",
       "  </thead>\n",
       "  <tbody>\n",
       "    <tr>\n",
       "      <th>count</th>\n",
       "      <td>221225.000000</td>\n",
       "      <td>221225.000000</td>\n",
       "      <td>221225.000000</td>\n",
       "      <td>221225.00000</td>\n",
       "      <td>221225.000000</td>\n",
       "      <td>221225.000000</td>\n",
       "      <td>221225.000000</td>\n",
       "      <td>221225.000000</td>\n",
       "      <td>221225.000000</td>\n",
       "      <td>221225.000000</td>\n",
       "      <td>221225.000000</td>\n",
       "      <td>221225.000000</td>\n",
       "      <td>221225.000000</td>\n",
       "      <td>221225.000000</td>\n",
       "      <td>221225.000000</td>\n",
       "      <td>221225.000000</td>\n",
       "      <td>221225.000000</td>\n",
       "    </tr>\n",
       "    <tr>\n",
       "      <th>mean</th>\n",
       "      <td>221843.430327</td>\n",
       "      <td>22.439625</td>\n",
       "      <td>2016.368720</td>\n",
       "      <td>0.37095</td>\n",
       "      <td>0.635987</td>\n",
       "      <td>145440.285307</td>\n",
       "      <td>145.440285</td>\n",
       "      <td>0.545408</td>\n",
       "      <td>0.186065</td>\n",
       "      <td>5.240823</td>\n",
       "      <td>0.216457</td>\n",
       "      <td>-10.923231</td>\n",
       "      <td>0.586624</td>\n",
       "      <td>0.252302</td>\n",
       "      <td>117.483182</td>\n",
       "      <td>3.845894</td>\n",
       "      <td>0.491020</td>\n",
       "    </tr>\n",
       "    <tr>\n",
       "      <th>std</th>\n",
       "      <td>125987.545717</td>\n",
       "      <td>18.180647</td>\n",
       "      <td>7.803424</td>\n",
       "      <td>0.32309</td>\n",
       "      <td>0.175727</td>\n",
       "      <td>41134.690649</td>\n",
       "      <td>41.134691</td>\n",
       "      <td>0.248841</td>\n",
       "      <td>0.342453</td>\n",
       "      <td>3.635670</td>\n",
       "      <td>0.179010</td>\n",
       "      <td>6.362426</td>\n",
       "      <td>0.492440</td>\n",
       "      <td>0.296068</td>\n",
       "      <td>31.554778</td>\n",
       "      <td>0.640003</td>\n",
       "      <td>0.250777</td>\n",
       "    </tr>\n",
       "    <tr>\n",
       "      <th>min</th>\n",
       "      <td>3.000000</td>\n",
       "      <td>0.000000</td>\n",
       "      <td>1950.000000</td>\n",
       "      <td>0.00000</td>\n",
       "      <td>0.000000</td>\n",
       "      <td>1864.000000</td>\n",
       "      <td>1.864000</td>\n",
       "      <td>0.000000</td>\n",
       "      <td>0.000000</td>\n",
       "      <td>0.000000</td>\n",
       "      <td>0.000000</td>\n",
       "      <td>-60.000000</td>\n",
       "      <td>0.000000</td>\n",
       "      <td>0.000000</td>\n",
       "      <td>0.000000</td>\n",
       "      <td>0.000000</td>\n",
       "      <td>0.000000</td>\n",
       "    </tr>\n",
       "    <tr>\n",
       "      <th>25%</th>\n",
       "      <td>114275.000000</td>\n",
       "      <td>7.000000</td>\n",
       "      <td>2016.000000</td>\n",
       "      <td>0.06690</td>\n",
       "      <td>0.547000</td>\n",
       "      <td>118885.000000</td>\n",
       "      <td>118.885000</td>\n",
       "      <td>0.366000</td>\n",
       "      <td>0.000000</td>\n",
       "      <td>2.000000</td>\n",
       "      <td>0.102000</td>\n",
       "      <td>-13.870000</td>\n",
       "      <td>0.000000</td>\n",
       "      <td>0.047400</td>\n",
       "      <td>93.009000</td>\n",
       "      <td>4.000000</td>\n",
       "      <td>0.301000</td>\n",
       "    </tr>\n",
       "    <tr>\n",
       "      <th>50%</th>\n",
       "      <td>221558.000000</td>\n",
       "      <td>20.000000</td>\n",
       "      <td>2019.000000</td>\n",
       "      <td>0.29200</td>\n",
       "      <td>0.669000</td>\n",
       "      <td>154375.000000</td>\n",
       "      <td>154.375000</td>\n",
       "      <td>0.558000</td>\n",
       "      <td>0.000006</td>\n",
       "      <td>5.000000</td>\n",
       "      <td>0.137000</td>\n",
       "      <td>-9.352000</td>\n",
       "      <td>1.000000</td>\n",
       "      <td>0.103000</td>\n",
       "      <td>117.975000</td>\n",
       "      <td>4.000000</td>\n",
       "      <td>0.494000</td>\n",
       "    </tr>\n",
       "    <tr>\n",
       "      <th>75%</th>\n",
       "      <td>330987.000000</td>\n",
       "      <td>35.000000</td>\n",
       "      <td>2020.000000</td>\n",
       "      <td>0.63900</td>\n",
       "      <td>0.754000</td>\n",
       "      <td>179973.000000</td>\n",
       "      <td>179.973000</td>\n",
       "      <td>0.738000</td>\n",
       "      <td>0.092200</td>\n",
       "      <td>8.000000</td>\n",
       "      <td>0.287000</td>\n",
       "      <td>-6.436000</td>\n",
       "      <td>1.000000</td>\n",
       "      <td>0.333000</td>\n",
       "      <td>139.041000</td>\n",
       "      <td>4.000000</td>\n",
       "      <td>0.685000</td>\n",
       "    </tr>\n",
       "    <tr>\n",
       "      <th>max</th>\n",
       "      <td>439892.000000</td>\n",
       "      <td>95.000000</td>\n",
       "      <td>2021.000000</td>\n",
       "      <td>0.99600</td>\n",
       "      <td>0.994000</td>\n",
       "      <td>199999.000000</td>\n",
       "      <td>199.999000</td>\n",
       "      <td>1.000000</td>\n",
       "      <td>1.000000</td>\n",
       "      <td>11.000000</td>\n",
       "      <td>0.998000</td>\n",
       "      <td>5.285000</td>\n",
       "      <td>1.000000</td>\n",
       "      <td>0.972000</td>\n",
       "      <td>248.038000</td>\n",
       "      <td>5.000000</td>\n",
       "      <td>1.000000</td>\n",
       "    </tr>\n",
       "  </tbody>\n",
       "</table>\n",
       "</div>"
      ],
      "text/plain": [
       "           Index Num     popularity           year  acousticness  \\\n",
       "count  221225.000000  221225.000000  221225.000000  221225.00000   \n",
       "mean   221843.430327      22.439625    2016.368720       0.37095   \n",
       "std    125987.545717      18.180647       7.803424       0.32309   \n",
       "min         3.000000       0.000000    1950.000000       0.00000   \n",
       "25%    114275.000000       7.000000    2016.000000       0.06690   \n",
       "50%    221558.000000      20.000000    2019.000000       0.29200   \n",
       "75%    330987.000000      35.000000    2020.000000       0.63900   \n",
       "max    439892.000000      95.000000    2021.000000       0.99600   \n",
       "\n",
       "        danceability    duration_ms        seconds         energy  \\\n",
       "count  221225.000000  221225.000000  221225.000000  221225.000000   \n",
       "mean        0.635987  145440.285307     145.440285       0.545408   \n",
       "std         0.175727   41134.690649      41.134691       0.248841   \n",
       "min         0.000000    1864.000000       1.864000       0.000000   \n",
       "25%         0.547000  118885.000000     118.885000       0.366000   \n",
       "50%         0.669000  154375.000000     154.375000       0.558000   \n",
       "75%         0.754000  179973.000000     179.973000       0.738000   \n",
       "max         0.994000  199999.000000     199.999000       1.000000   \n",
       "\n",
       "       instrumentalness            key       liveness       loudness  \\\n",
       "count     221225.000000  221225.000000  221225.000000  221225.000000   \n",
       "mean           0.186065       5.240823       0.216457     -10.923231   \n",
       "std            0.342453       3.635670       0.179010       6.362426   \n",
       "min            0.000000       0.000000       0.000000     -60.000000   \n",
       "25%            0.000000       2.000000       0.102000     -13.870000   \n",
       "50%            0.000006       5.000000       0.137000      -9.352000   \n",
       "75%            0.092200       8.000000       0.287000      -6.436000   \n",
       "max            1.000000      11.000000       0.998000       5.285000   \n",
       "\n",
       "                mode    speechiness          tempo  time_signature  \\\n",
       "count  221225.000000  221225.000000  221225.000000   221225.000000   \n",
       "mean        0.586624       0.252302     117.483182        3.845894   \n",
       "std         0.492440       0.296068      31.554778        0.640003   \n",
       "min         0.000000       0.000000       0.000000        0.000000   \n",
       "25%         0.000000       0.047400      93.009000        4.000000   \n",
       "50%         1.000000       0.103000     117.975000        4.000000   \n",
       "75%         1.000000       0.333000     139.041000        4.000000   \n",
       "max         1.000000       0.972000     248.038000        5.000000   \n",
       "\n",
       "             valence  \n",
       "count  221225.000000  \n",
       "mean        0.491020  \n",
       "std         0.250777  \n",
       "min         0.000000  \n",
       "25%         0.301000  \n",
       "50%         0.494000  \n",
       "75%         0.685000  \n",
       "max         1.000000  "
      ]
     },
     "execution_count": 28,
     "metadata": {},
     "output_type": "execute_result"
    }
   ],
   "source": [
    "df_dur_under200 = df_duration200 = df_tracks.loc[df_tracks['seconds'] < 200]\n",
    "df_dur_under200.describe()"
   ]
  },
  {
   "cell_type": "markdown",
   "metadata": {
    "id": "4BN4VoZ9CXM9"
   },
   "source": [
    "**<font size=\"3\">Hypothesis 2 (Duration): T-Test</font>**"
   ]
  },
  {
   "cell_type": "code",
   "execution_count": 29,
   "metadata": {
    "colab": {
     "base_uri": "https://localhost:8080/"
    },
    "executionInfo": {
     "elapsed": 3,
     "status": "ok",
     "timestamp": 1643411770037,
     "user": {
      "displayName": "Johnson Liang",
      "photoUrl": "https://lh3.googleusercontent.com/a/default-user=s64",
      "userId": "01439563269954497799"
     },
     "user_tz": 300
    },
    "id": "DfgTO8MwCcdm",
    "outputId": "bfd994e6-d09b-4829-9bfa-b7579f9ed23d"
   },
   "outputs": [
    {
     "data": {
      "text/plain": [
       "Ttest_indResult(statistic=0.0, pvalue=1.0)"
      ]
     },
     "execution_count": 29,
     "metadata": {},
     "output_type": "execute_result"
    }
   ],
   "source": [
    "# generates t-stat and p-value\n",
    "# popularity ratings not N.D., but large sample should still suffice for t-test\n",
    "stats.ttest_ind(df_duration200['popularity'], df_dur_under200['popularity'])"
   ]
  },
  {
   "cell_type": "markdown",
   "metadata": {
    "id": "sMvr1P7IC2SA"
   },
   "source": [
    "- T-test finds a p-value greater than chosen alpha of 0.05. \n",
    "- Test is not significant and we fail to reject the null hypothesis which means there's evidence that duration has no significance on popularity rating. \n",
    "- Move on to next test. "
   ]
  },
  {
   "cell_type": "markdown",
   "metadata": {
    "id": "xD4SIkY6klWN"
   },
   "source": [
    "**<font size=\"3\">Hypothesis 3 (Energy Rating): Is there a significant difference in popularity between soundtracks with an energy rating >= 0.6 vs tracks with a rating < 0.6?</font>**\n",
    "\n",
    "1. H₀: µ₁ - µ₂ = 0 (No significant difference between popularity means of the 2 groups - tracks with an energy rating >= 0.6, and tracks with a rating < 0.6.)\n",
    "2. Hₐ: µ₁ - µ₂ ≠ 0 (There is a significant difference between the 2 groups)"
   ]
  },
  {
   "cell_type": "code",
   "execution_count": 30,
   "metadata": {
    "colab": {
     "base_uri": "https://localhost:8080/",
     "height": 364
    },
    "executionInfo": {
     "elapsed": 303,
     "status": "ok",
     "timestamp": 1643411770339,
     "user": {
      "displayName": "Johnson Liang",
      "photoUrl": "https://lh3.googleusercontent.com/a/default-user=s64",
      "userId": "01439563269954497799"
     },
     "user_tz": 300
    },
    "id": "RPPplcYsklWN",
    "outputId": "7401c6d0-ddf2-45b9-c1ed-bb6ef80d0684"
   },
   "outputs": [
    {
     "data": {
      "text/html": [
       "<div>\n",
       "<style scoped>\n",
       "    .dataframe tbody tr th:only-of-type {\n",
       "        vertical-align: middle;\n",
       "    }\n",
       "\n",
       "    .dataframe tbody tr th {\n",
       "        vertical-align: top;\n",
       "    }\n",
       "\n",
       "    .dataframe thead th {\n",
       "        text-align: right;\n",
       "    }\n",
       "</style>\n",
       "<table border=\"1\" class=\"dataframe\">\n",
       "  <thead>\n",
       "    <tr style=\"text-align: right;\">\n",
       "      <th></th>\n",
       "      <th>Index Num</th>\n",
       "      <th>popularity</th>\n",
       "      <th>year</th>\n",
       "      <th>acousticness</th>\n",
       "      <th>danceability</th>\n",
       "      <th>duration_ms</th>\n",
       "      <th>seconds</th>\n",
       "      <th>energy</th>\n",
       "      <th>instrumentalness</th>\n",
       "      <th>key</th>\n",
       "      <th>liveness</th>\n",
       "      <th>loudness</th>\n",
       "      <th>mode</th>\n",
       "      <th>speechiness</th>\n",
       "      <th>tempo</th>\n",
       "      <th>time_signature</th>\n",
       "      <th>valence</th>\n",
       "    </tr>\n",
       "  </thead>\n",
       "  <tbody>\n",
       "    <tr>\n",
       "      <th>count</th>\n",
       "      <td>225761.000000</td>\n",
       "      <td>225761.000000</td>\n",
       "      <td>225761.000000</td>\n",
       "      <td>225761.000000</td>\n",
       "      <td>225761.000000</td>\n",
       "      <td>2.257610e+05</td>\n",
       "      <td>225761.000000</td>\n",
       "      <td>225761.000000</td>\n",
       "      <td>225761.000000</td>\n",
       "      <td>225761.000000</td>\n",
       "      <td>225761.000000</td>\n",
       "      <td>225761.000000</td>\n",
       "      <td>225761.000000</td>\n",
       "      <td>225761.000000</td>\n",
       "      <td>225761.000000</td>\n",
       "      <td>225761.000000</td>\n",
       "      <td>225761.000000</td>\n",
       "    </tr>\n",
       "    <tr>\n",
       "      <th>mean</th>\n",
       "      <td>209630.444931</td>\n",
       "      <td>24.273240</td>\n",
       "      <td>2015.097643</td>\n",
       "      <td>0.177667</td>\n",
       "      <td>0.632312</td>\n",
       "      <td>2.234557e+05</td>\n",
       "      <td>223.455668</td>\n",
       "      <td>0.786066</td>\n",
       "      <td>0.145838</td>\n",
       "      <td>5.397088</td>\n",
       "      <td>0.229226</td>\n",
       "      <td>-6.582572</td>\n",
       "      <td>0.557319</td>\n",
       "      <td>0.148260</td>\n",
       "      <td>123.625608</td>\n",
       "      <td>3.945141</td>\n",
       "      <td>0.534778</td>\n",
       "    </tr>\n",
       "    <tr>\n",
       "      <th>std</th>\n",
       "      <td>126178.378126</td>\n",
       "      <td>18.699801</td>\n",
       "      <td>7.534339</td>\n",
       "      <td>0.215392</td>\n",
       "      <td>0.156403</td>\n",
       "      <td>1.089467e+05</td>\n",
       "      <td>108.946703</td>\n",
       "      <td>0.112299</td>\n",
       "      <td>0.299187</td>\n",
       "      <td>3.623836</td>\n",
       "      <td>0.195748</td>\n",
       "      <td>2.871748</td>\n",
       "      <td>0.496705</td>\n",
       "      <td>0.168544</td>\n",
       "      <td>28.520881</td>\n",
       "      <td>0.380779</td>\n",
       "      <td>0.248480</td>\n",
       "    </tr>\n",
       "    <tr>\n",
       "      <th>min</th>\n",
       "      <td>1.000000</td>\n",
       "      <td>0.000000</td>\n",
       "      <td>1950.000000</td>\n",
       "      <td>0.000000</td>\n",
       "      <td>0.000000</td>\n",
       "      <td>2.554000e+03</td>\n",
       "      <td>2.554000</td>\n",
       "      <td>0.600000</td>\n",
       "      <td>0.000000</td>\n",
       "      <td>0.000000</td>\n",
       "      <td>0.000000</td>\n",
       "      <td>-42.799000</td>\n",
       "      <td>0.000000</td>\n",
       "      <td>0.000000</td>\n",
       "      <td>0.000000</td>\n",
       "      <td>0.000000</td>\n",
       "      <td>0.000000</td>\n",
       "    </tr>\n",
       "    <tr>\n",
       "      <th>25%</th>\n",
       "      <td>100002.000000</td>\n",
       "      <td>9.000000</td>\n",
       "      <td>2013.000000</td>\n",
       "      <td>0.011200</td>\n",
       "      <td>0.537000</td>\n",
       "      <td>1.727460e+05</td>\n",
       "      <td>172.746000</td>\n",
       "      <td>0.689000</td>\n",
       "      <td>0.000000</td>\n",
       "      <td>2.000000</td>\n",
       "      <td>0.097900</td>\n",
       "      <td>-7.960000</td>\n",
       "      <td>0.000000</td>\n",
       "      <td>0.045500</td>\n",
       "      <td>100.027000</td>\n",
       "      <td>4.000000</td>\n",
       "      <td>0.346000</td>\n",
       "    </tr>\n",
       "    <tr>\n",
       "      <th>50%</th>\n",
       "      <td>204941.000000</td>\n",
       "      <td>22.000000</td>\n",
       "      <td>2018.000000</td>\n",
       "      <td>0.084100</td>\n",
       "      <td>0.651000</td>\n",
       "      <td>2.094430e+05</td>\n",
       "      <td>209.443000</td>\n",
       "      <td>0.781000</td>\n",
       "      <td>0.000012</td>\n",
       "      <td>6.000000</td>\n",
       "      <td>0.148000</td>\n",
       "      <td>-6.219000</td>\n",
       "      <td>1.000000</td>\n",
       "      <td>0.075600</td>\n",
       "      <td>124.012000</td>\n",
       "      <td>4.000000</td>\n",
       "      <td>0.544000</td>\n",
       "    </tr>\n",
       "    <tr>\n",
       "      <th>75%</th>\n",
       "      <td>315657.000000</td>\n",
       "      <td>37.000000</td>\n",
       "      <td>2020.000000</td>\n",
       "      <td>0.276000</td>\n",
       "      <td>0.746000</td>\n",
       "      <td>2.538060e+05</td>\n",
       "      <td>253.806000</td>\n",
       "      <td>0.880000</td>\n",
       "      <td>0.027600</td>\n",
       "      <td>9.000000</td>\n",
       "      <td>0.312000</td>\n",
       "      <td>-4.740000</td>\n",
       "      <td>1.000000</td>\n",
       "      <td>0.193000</td>\n",
       "      <td>140.062000</td>\n",
       "      <td>4.000000</td>\n",
       "      <td>0.733000</td>\n",
       "    </tr>\n",
       "    <tr>\n",
       "      <th>max</th>\n",
       "      <td>439885.000000</td>\n",
       "      <td>96.000000</td>\n",
       "      <td>2021.000000</td>\n",
       "      <td>0.996000</td>\n",
       "      <td>0.994000</td>\n",
       "      <td>6.024647e+06</td>\n",
       "      <td>6024.647000</td>\n",
       "      <td>1.000000</td>\n",
       "      <td>1.000000</td>\n",
       "      <td>11.000000</td>\n",
       "      <td>1.000000</td>\n",
       "      <td>5.285000</td>\n",
       "      <td>1.000000</td>\n",
       "      <td>0.968000</td>\n",
       "      <td>249.810000</td>\n",
       "      <td>5.000000</td>\n",
       "      <td>1.000000</td>\n",
       "    </tr>\n",
       "  </tbody>\n",
       "</table>\n",
       "</div>"
      ],
      "text/plain": [
       "           Index Num     popularity           year   acousticness  \\\n",
       "count  225761.000000  225761.000000  225761.000000  225761.000000   \n",
       "mean   209630.444931      24.273240    2015.097643       0.177667   \n",
       "std    126178.378126      18.699801       7.534339       0.215392   \n",
       "min         1.000000       0.000000    1950.000000       0.000000   \n",
       "25%    100002.000000       9.000000    2013.000000       0.011200   \n",
       "50%    204941.000000      22.000000    2018.000000       0.084100   \n",
       "75%    315657.000000      37.000000    2020.000000       0.276000   \n",
       "max    439885.000000      96.000000    2021.000000       0.996000   \n",
       "\n",
       "        danceability   duration_ms        seconds         energy  \\\n",
       "count  225761.000000  2.257610e+05  225761.000000  225761.000000   \n",
       "mean        0.632312  2.234557e+05     223.455668       0.786066   \n",
       "std         0.156403  1.089467e+05     108.946703       0.112299   \n",
       "min         0.000000  2.554000e+03       2.554000       0.600000   \n",
       "25%         0.537000  1.727460e+05     172.746000       0.689000   \n",
       "50%         0.651000  2.094430e+05     209.443000       0.781000   \n",
       "75%         0.746000  2.538060e+05     253.806000       0.880000   \n",
       "max         0.994000  6.024647e+06    6024.647000       1.000000   \n",
       "\n",
       "       instrumentalness            key       liveness       loudness  \\\n",
       "count     225761.000000  225761.000000  225761.000000  225761.000000   \n",
       "mean           0.145838       5.397088       0.229226      -6.582572   \n",
       "std            0.299187       3.623836       0.195748       2.871748   \n",
       "min            0.000000       0.000000       0.000000     -42.799000   \n",
       "25%            0.000000       2.000000       0.097900      -7.960000   \n",
       "50%            0.000012       6.000000       0.148000      -6.219000   \n",
       "75%            0.027600       9.000000       0.312000      -4.740000   \n",
       "max            1.000000      11.000000       1.000000       5.285000   \n",
       "\n",
       "                mode    speechiness          tempo  time_signature  \\\n",
       "count  225761.000000  225761.000000  225761.000000   225761.000000   \n",
       "mean        0.557319       0.148260     123.625608        3.945141   \n",
       "std         0.496705       0.168544      28.520881        0.380779   \n",
       "min         0.000000       0.000000       0.000000        0.000000   \n",
       "25%         0.000000       0.045500     100.027000        4.000000   \n",
       "50%         1.000000       0.075600     124.012000        4.000000   \n",
       "75%         1.000000       0.193000     140.062000        4.000000   \n",
       "max         1.000000       0.968000     249.810000        5.000000   \n",
       "\n",
       "             valence  \n",
       "count  225761.000000  \n",
       "mean        0.534778  \n",
       "std         0.248480  \n",
       "min         0.000000  \n",
       "25%         0.346000  \n",
       "50%         0.544000  \n",
       "75%         0.733000  \n",
       "max         1.000000  "
      ]
     },
     "execution_count": 30,
     "metadata": {},
     "output_type": "execute_result"
    }
   ],
   "source": [
    "## create df for tracks with year >= 2010 and use describe function to make sure\n",
    "df_high_energy = df_tracks.loc[df_tracks['energy'] >= .6]\n",
    "df_high_energy.describe()"
   ]
  },
  {
   "cell_type": "code",
   "execution_count": 31,
   "metadata": {
    "colab": {
     "base_uri": "https://localhost:8080/",
     "height": 364
    },
    "executionInfo": {
     "elapsed": 282,
     "status": "ok",
     "timestamp": 1643411770620,
     "user": {
      "displayName": "Johnson Liang",
      "photoUrl": "https://lh3.googleusercontent.com/a/default-user=s64",
      "userId": "01439563269954497799"
     },
     "user_tz": 300
    },
    "id": "9ZGgZRzjEGuK",
    "outputId": "7383674b-ca53-45ca-9e19-7dc4b60ff552"
   },
   "outputs": [
    {
     "data": {
      "text/html": [
       "<div>\n",
       "<style scoped>\n",
       "    .dataframe tbody tr th:only-of-type {\n",
       "        vertical-align: middle;\n",
       "    }\n",
       "\n",
       "    .dataframe tbody tr th {\n",
       "        vertical-align: top;\n",
       "    }\n",
       "\n",
       "    .dataframe thead th {\n",
       "        text-align: right;\n",
       "    }\n",
       "</style>\n",
       "<table border=\"1\" class=\"dataframe\">\n",
       "  <thead>\n",
       "    <tr style=\"text-align: right;\">\n",
       "      <th></th>\n",
       "      <th>Index Num</th>\n",
       "      <th>popularity</th>\n",
       "      <th>year</th>\n",
       "      <th>acousticness</th>\n",
       "      <th>danceability</th>\n",
       "      <th>duration_ms</th>\n",
       "      <th>seconds</th>\n",
       "      <th>energy</th>\n",
       "      <th>instrumentalness</th>\n",
       "      <th>key</th>\n",
       "      <th>liveness</th>\n",
       "      <th>loudness</th>\n",
       "      <th>mode</th>\n",
       "      <th>speechiness</th>\n",
       "      <th>tempo</th>\n",
       "      <th>time_signature</th>\n",
       "      <th>valence</th>\n",
       "    </tr>\n",
       "  </thead>\n",
       "  <tbody>\n",
       "    <tr>\n",
       "      <th>count</th>\n",
       "      <td>213758.000000</td>\n",
       "      <td>213758.000000</td>\n",
       "      <td>213758.000000</td>\n",
       "      <td>213758.000000</td>\n",
       "      <td>213758.000000</td>\n",
       "      <td>2.137580e+05</td>\n",
       "      <td>213758.000000</td>\n",
       "      <td>213758.000000</td>\n",
       "      <td>213758.000000</td>\n",
       "      <td>213758.000000</td>\n",
       "      <td>213758.000000</td>\n",
       "      <td>213758.000000</td>\n",
       "      <td>213758.000000</td>\n",
       "      <td>213758.000000</td>\n",
       "      <td>213758.000000</td>\n",
       "      <td>213758.000000</td>\n",
       "      <td>213758.000000</td>\n",
       "    </tr>\n",
       "    <tr>\n",
       "      <th>mean</th>\n",
       "      <td>230951.216549</td>\n",
       "      <td>21.247102</td>\n",
       "      <td>2015.089358</td>\n",
       "      <td>0.495780</td>\n",
       "      <td>0.600750</td>\n",
       "      <td>2.027707e+05</td>\n",
       "      <td>202.770695</td>\n",
       "      <td>0.372701</td>\n",
       "      <td>0.233961</td>\n",
       "      <td>5.175147</td>\n",
       "      <td>0.188579</td>\n",
       "      <td>-13.522782</td>\n",
       "      <td>0.592142</td>\n",
       "      <td>0.237607</td>\n",
       "      <td>114.611963</td>\n",
       "      <td>3.808335</td>\n",
       "      <td>0.412554</td>\n",
       "    </tr>\n",
       "    <tr>\n",
       "      <th>std</th>\n",
       "      <td>126904.304910</td>\n",
       "      <td>18.191540</td>\n",
       "      <td>9.191122</td>\n",
       "      <td>0.331531</td>\n",
       "      <td>0.196948</td>\n",
       "      <td>1.373315e+05</td>\n",
       "      <td>137.331457</td>\n",
       "      <td>0.162559</td>\n",
       "      <td>0.370784</td>\n",
       "      <td>3.585490</td>\n",
       "      <td>0.157447</td>\n",
       "      <td>6.169252</td>\n",
       "      <td>0.491438</td>\n",
       "      <td>0.311592</td>\n",
       "      <td>31.215635</td>\n",
       "      <td>0.671555</td>\n",
       "      <td>0.243103</td>\n",
       "    </tr>\n",
       "    <tr>\n",
       "      <th>min</th>\n",
       "      <td>0.000000</td>\n",
       "      <td>0.000000</td>\n",
       "      <td>1950.000000</td>\n",
       "      <td>0.000000</td>\n",
       "      <td>0.000000</td>\n",
       "      <td>1.864000e+03</td>\n",
       "      <td>1.864000</td>\n",
       "      <td>0.000000</td>\n",
       "      <td>0.000000</td>\n",
       "      <td>0.000000</td>\n",
       "      <td>0.000000</td>\n",
       "      <td>-60.000000</td>\n",
       "      <td>0.000000</td>\n",
       "      <td>0.000000</td>\n",
       "      <td>0.000000</td>\n",
       "      <td>0.000000</td>\n",
       "      <td>0.000000</td>\n",
       "    </tr>\n",
       "    <tr>\n",
       "      <th>25%</th>\n",
       "      <td>122046.250000</td>\n",
       "      <td>6.000000</td>\n",
       "      <td>2014.000000</td>\n",
       "      <td>0.177000</td>\n",
       "      <td>0.481000</td>\n",
       "      <td>1.336830e+05</td>\n",
       "      <td>133.683000</td>\n",
       "      <td>0.258000</td>\n",
       "      <td>0.000000</td>\n",
       "      <td>2.000000</td>\n",
       "      <td>0.099500</td>\n",
       "      <td>-16.560000</td>\n",
       "      <td>0.000000</td>\n",
       "      <td>0.039100</td>\n",
       "      <td>89.979000</td>\n",
       "      <td>4.000000</td>\n",
       "      <td>0.213000</td>\n",
       "    </tr>\n",
       "    <tr>\n",
       "      <th>50%</th>\n",
       "      <td>237002.000000</td>\n",
       "      <td>18.000000</td>\n",
       "      <td>2019.000000</td>\n",
       "      <td>0.505000</td>\n",
       "      <td>0.641000</td>\n",
       "      <td>1.853910e+05</td>\n",
       "      <td>185.391000</td>\n",
       "      <td>0.405000</td>\n",
       "      <td>0.000043</td>\n",
       "      <td>5.000000</td>\n",
       "      <td>0.121000</td>\n",
       "      <td>-12.084000</td>\n",
       "      <td>1.000000</td>\n",
       "      <td>0.065900</td>\n",
       "      <td>114.161500</td>\n",
       "      <td>4.000000</td>\n",
       "      <td>0.393000</td>\n",
       "    </tr>\n",
       "    <tr>\n",
       "      <th>75%</th>\n",
       "      <td>342591.750000</td>\n",
       "      <td>34.000000</td>\n",
       "      <td>2020.000000</td>\n",
       "      <td>0.801000</td>\n",
       "      <td>0.738000</td>\n",
       "      <td>2.388615e+05</td>\n",
       "      <td>238.861500</td>\n",
       "      <td>0.510000</td>\n",
       "      <td>0.541000</td>\n",
       "      <td>8.000000</td>\n",
       "      <td>0.217000</td>\n",
       "      <td>-9.106250</td>\n",
       "      <td>1.000000</td>\n",
       "      <td>0.307000</td>\n",
       "      <td>134.953000</td>\n",
       "      <td>4.000000</td>\n",
       "      <td>0.591000</td>\n",
       "    </tr>\n",
       "    <tr>\n",
       "      <th>max</th>\n",
       "      <td>439892.000000</td>\n",
       "      <td>100.000000</td>\n",
       "      <td>2021.000000</td>\n",
       "      <td>0.996000</td>\n",
       "      <td>0.992000</td>\n",
       "      <td>5.903468e+06</td>\n",
       "      <td>5903.468000</td>\n",
       "      <td>0.599000</td>\n",
       "      <td>1.000000</td>\n",
       "      <td>11.000000</td>\n",
       "      <td>0.995000</td>\n",
       "      <td>3.858000</td>\n",
       "      <td>1.000000</td>\n",
       "      <td>0.972000</td>\n",
       "      <td>248.038000</td>\n",
       "      <td>5.000000</td>\n",
       "      <td>1.000000</td>\n",
       "    </tr>\n",
       "  </tbody>\n",
       "</table>\n",
       "</div>"
      ],
      "text/plain": [
       "           Index Num     popularity           year   acousticness  \\\n",
       "count  213758.000000  213758.000000  213758.000000  213758.000000   \n",
       "mean   230951.216549      21.247102    2015.089358       0.495780   \n",
       "std    126904.304910      18.191540       9.191122       0.331531   \n",
       "min         0.000000       0.000000    1950.000000       0.000000   \n",
       "25%    122046.250000       6.000000    2014.000000       0.177000   \n",
       "50%    237002.000000      18.000000    2019.000000       0.505000   \n",
       "75%    342591.750000      34.000000    2020.000000       0.801000   \n",
       "max    439892.000000     100.000000    2021.000000       0.996000   \n",
       "\n",
       "        danceability   duration_ms        seconds         energy  \\\n",
       "count  213758.000000  2.137580e+05  213758.000000  213758.000000   \n",
       "mean        0.600750  2.027707e+05     202.770695       0.372701   \n",
       "std         0.196948  1.373315e+05     137.331457       0.162559   \n",
       "min         0.000000  1.864000e+03       1.864000       0.000000   \n",
       "25%         0.481000  1.336830e+05     133.683000       0.258000   \n",
       "50%         0.641000  1.853910e+05     185.391000       0.405000   \n",
       "75%         0.738000  2.388615e+05     238.861500       0.510000   \n",
       "max         0.992000  5.903468e+06    5903.468000       0.599000   \n",
       "\n",
       "       instrumentalness            key       liveness       loudness  \\\n",
       "count     213758.000000  213758.000000  213758.000000  213758.000000   \n",
       "mean           0.233961       5.175147       0.188579     -13.522782   \n",
       "std            0.370784       3.585490       0.157447       6.169252   \n",
       "min            0.000000       0.000000       0.000000     -60.000000   \n",
       "25%            0.000000       2.000000       0.099500     -16.560000   \n",
       "50%            0.000043       5.000000       0.121000     -12.084000   \n",
       "75%            0.541000       8.000000       0.217000      -9.106250   \n",
       "max            1.000000      11.000000       0.995000       3.858000   \n",
       "\n",
       "                mode    speechiness          tempo  time_signature  \\\n",
       "count  213758.000000  213758.000000  213758.000000   213758.000000   \n",
       "mean        0.592142       0.237607     114.611963        3.808335   \n",
       "std         0.491438       0.311592      31.215635        0.671555   \n",
       "min         0.000000       0.000000       0.000000        0.000000   \n",
       "25%         0.000000       0.039100      89.979000        4.000000   \n",
       "50%         1.000000       0.065900     114.161500        4.000000   \n",
       "75%         1.000000       0.307000     134.953000        4.000000   \n",
       "max         1.000000       0.972000     248.038000        5.000000   \n",
       "\n",
       "             valence  \n",
       "count  213758.000000  \n",
       "mean        0.412554  \n",
       "std         0.243103  \n",
       "min         0.000000  \n",
       "25%         0.213000  \n",
       "50%         0.393000  \n",
       "75%         0.591000  \n",
       "max         1.000000  "
      ]
     },
     "execution_count": 31,
     "metadata": {},
     "output_type": "execute_result"
    }
   ],
   "source": [
    "df_low_energy = df_tracks.loc[df_tracks['energy'] < .6]\n",
    "df_low_energy.describe()"
   ]
  },
  {
   "cell_type": "markdown",
   "metadata": {
    "id": "2L35lIjGEQD7"
   },
   "source": [
    "**<font size=\"3\">Hypothesis 3 (Energy): T-Test</font>**"
   ]
  },
  {
   "cell_type": "code",
   "execution_count": 32,
   "metadata": {
    "colab": {
     "base_uri": "https://localhost:8080/"
    },
    "executionInfo": {
     "elapsed": 5,
     "status": "ok",
     "timestamp": 1643411770621,
     "user": {
      "displayName": "Johnson Liang",
      "photoUrl": "https://lh3.googleusercontent.com/a/default-user=s64",
      "userId": "01439563269954497799"
     },
     "user_tz": 300
    },
    "id": "hd7fsgOQEWvM",
    "outputId": "d17ed496-9e79-4fe8-d314-9597cfbbd534"
   },
   "outputs": [
    {
     "data": {
      "text/plain": [
       "Ttest_indResult(statistic=54.335872190359304, pvalue=0.0)"
      ]
     },
     "execution_count": 32,
     "metadata": {},
     "output_type": "execute_result"
    }
   ],
   "source": [
    "# generates t-stat and p-value\n",
    "# popularity ratings not N.D., but large sample should still suffice for t-test\n",
    "stats.ttest_ind(df_high_energy['popularity'], df_low_energy['popularity'])"
   ]
  },
  {
   "cell_type": "markdown",
   "metadata": {
    "id": "-a_LELGWEh3d"
   },
   "source": [
    "- Reject null hypothesis because test shows a significant difference between the 2 tested groups with a p-value less than 0.05.\n",
    "- Energy rating has a significant change on popularity. "
   ]
  },
  {
   "cell_type": "markdown",
   "metadata": {
    "id": "0wlt20LfE6Kb"
   },
   "source": [
    "**<font size=\"3\">Hypothesis 3 (Energy): Confidence Intervals</font>**"
   ]
  },
  {
   "cell_type": "code",
   "execution_count": 33,
   "metadata": {
    "colab": {
     "base_uri": "https://localhost:8080/",
     "height": 35
    },
    "executionInfo": {
     "elapsed": 3,
     "status": "ok",
     "timestamp": 1643411770621,
     "user": {
      "displayName": "Johnson Liang",
      "photoUrl": "https://lh3.googleusercontent.com/a/default-user=s64",
      "userId": "01439563269954497799"
     },
     "user_tz": 300
    },
    "id": "PnP461EYFIbC",
    "outputId": "1bee89f5-f4bf-4ca5-e06c-1eab08884b54"
   },
   "outputs": [
    {
     "data": {
      "text/plain": [
       "'The difference in means of popularity at a 95% Confidence Interval is between 2.917061851860417 and 3.13521499259155.'"
      ]
     },
     "execution_count": 33,
     "metadata": {},
     "output_type": "execute_result"
    }
   ],
   "source": [
    "get_95_ci(df_low_energy['popularity'], df_high_energy['popularity'])"
   ]
  },
  {
   "cell_type": "code",
   "execution_count": 34,
   "metadata": {
    "colab": {
     "base_uri": "https://localhost:8080/",
     "height": 386
    },
    "executionInfo": {
     "elapsed": 1846,
     "status": "ok",
     "timestamp": 1643411772465,
     "user": {
      "displayName": "Johnson Liang",
      "photoUrl": "https://lh3.googleusercontent.com/a/default-user=s64",
      "userId": "01439563269954497799"
     },
     "user_tz": 300
    },
    "id": "LUlbHJZQklWN",
    "outputId": "b384e426-6c2f-4482-bd6b-17bea9195ccf"
   },
   "outputs": [
    {
     "data": {
      "text/plain": [
       "<seaborn.axisgrid.FacetGrid at 0x13052041fc8>"
      ]
     },
     "execution_count": 34,
     "metadata": {},
     "output_type": "execute_result"
    },
    {
     "data": {
      "image/png": "[encoded data removed]",
      "text/plain": [
       "<Figure size 360x360 with 1 Axes>"
      ]
     },
     "metadata": {
      "needs_background": "light"
     },
     "output_type": "display_data"
    }
   ],
   "source": [
    "sns.displot(x = 'energy', kind='kde',data = df_low_energy)"
   ]
  },
  {
   "cell_type": "code",
   "execution_count": 35,
   "metadata": {
    "colab": {
     "base_uri": "https://localhost:8080/",
     "height": 386
    },
    "executionInfo": {
     "elapsed": 1874,
     "status": "ok",
     "timestamp": 1643411774337,
     "user": {
      "displayName": "Johnson Liang",
      "photoUrl": "https://lh3.googleusercontent.com/a/default-user=s64",
      "userId": "01439563269954497799"
     },
     "user_tz": 300
    },
    "id": "Y8tL-mCtFmBQ",
    "outputId": "51e1b4b7-4f19-4762-f2a9-20dc7d4253b9"
   },
   "outputs": [
    {
     "data": {
      "text/plain": [
       "<seaborn.axisgrid.FacetGrid at 0x130609e7f88>"
      ]
     },
     "execution_count": 35,
     "metadata": {},
     "output_type": "execute_result"
    },
    {
     "data": {
      "image/png": "[encoded data removed]",
      "text/plain": [
       "<Figure size 360x360 with 1 Axes>"
      ]
     },
     "metadata": {
      "needs_background": "light"
     },
     "output_type": "display_data"
    }
   ],
   "source": [
    "sns.displot(x = 'energy', kind='kde',data = df_high_energy)"
   ]
  },
  {
   "cell_type": "code",
   "execution_count": 36,
   "metadata": {
    "colab": {
     "base_uri": "https://localhost:8080/",
     "height": 296
    },
    "executionInfo": {
     "elapsed": 456,
     "status": "ok",
     "timestamp": 1643411774792,
     "user": {
      "displayName": "Johnson Liang",
      "photoUrl": "https://lh3.googleusercontent.com/a/default-user=s64",
      "userId": "01439563269954497799"
     },
     "user_tz": 300
    },
    "id": "oAyZn_iyirFr",
    "outputId": "f24bb61e-e602-4c82-8a24-8284c3ad5316"
   },
   "outputs": [
    {
     "data": {
      "text/plain": [
       "<AxesSubplot:xlabel='energy', ylabel='Count'>"
      ]
     },
     "execution_count": 36,
     "metadata": {},
     "output_type": "execute_result"
    },
    {
     "data": {
      "image/png": "[encoded data removed]",
      "text/plain": [
       "<Figure size 432x288 with 1 Axes>"
      ]
     },
     "metadata": {
      "needs_background": "light"
     },
     "output_type": "display_data"
    }
   ],
   "source": [
    "sns.histplot(x = 'energy',data = df_high_energy)"
   ]
  },
  {
   "cell_type": "markdown",
   "metadata": {
    "id": "oz_a7pLHklWN"
   },
   "source": [
    "**<font size=\"3\">Hypothesis 4 (Danceability Rating): Is there a significant difference in popularity between soundtracks with a danceability rating >= 0.6 vs tracks with a rating < 0.6?</font>**\n",
    "    \n",
    "1. H₀: µ₁ - µ₂ = 0 (No significant difference between popularity means of the 2 groups - tracks with a danceability rating >= 0.6, and tracks with a rating less than 0.6.)\n",
    "2. Hₐ: µ₁ - µ₂ ≠ 0 (There is a significant difference between the 2 groups)"
   ]
  },
  {
   "cell_type": "code",
   "execution_count": 37,
   "metadata": {
    "colab": {
     "base_uri": "https://localhost:8080/",
     "height": 364
    },
    "executionInfo": {
     "elapsed": 413,
     "status": "ok",
     "timestamp": 1643411775203,
     "user": {
      "displayName": "Johnson Liang",
      "photoUrl": "https://lh3.googleusercontent.com/a/default-user=s64",
      "userId": "01439563269954497799"
     },
     "user_tz": 300
    },
    "id": "Pxq5mrikFoT8",
    "outputId": "7c86b96b-1a0f-4746-b51e-4c214afd899a"
   },
   "outputs": [
    {
     "data": {
      "text/html": [
       "<div>\n",
       "<style scoped>\n",
       "    .dataframe tbody tr th:only-of-type {\n",
       "        vertical-align: middle;\n",
       "    }\n",
       "\n",
       "    .dataframe tbody tr th {\n",
       "        vertical-align: top;\n",
       "    }\n",
       "\n",
       "    .dataframe thead th {\n",
       "        text-align: right;\n",
       "    }\n",
       "</style>\n",
       "<table border=\"1\" class=\"dataframe\">\n",
       "  <thead>\n",
       "    <tr style=\"text-align: right;\">\n",
       "      <th></th>\n",
       "      <th>Index Num</th>\n",
       "      <th>popularity</th>\n",
       "      <th>year</th>\n",
       "      <th>acousticness</th>\n",
       "      <th>danceability</th>\n",
       "      <th>duration_ms</th>\n",
       "      <th>seconds</th>\n",
       "      <th>energy</th>\n",
       "      <th>instrumentalness</th>\n",
       "      <th>key</th>\n",
       "      <th>liveness</th>\n",
       "      <th>loudness</th>\n",
       "      <th>mode</th>\n",
       "      <th>speechiness</th>\n",
       "      <th>tempo</th>\n",
       "      <th>time_signature</th>\n",
       "      <th>valence</th>\n",
       "    </tr>\n",
       "  </thead>\n",
       "  <tbody>\n",
       "    <tr>\n",
       "      <th>count</th>\n",
       "      <td>267502.000000</td>\n",
       "      <td>267502.000000</td>\n",
       "      <td>267502.000000</td>\n",
       "      <td>267502.000000</td>\n",
       "      <td>267502.000000</td>\n",
       "      <td>2.675020e+05</td>\n",
       "      <td>267502.000000</td>\n",
       "      <td>267502.000000</td>\n",
       "      <td>267502.000000</td>\n",
       "      <td>267502.000000</td>\n",
       "      <td>267502.000000</td>\n",
       "      <td>267502.000000</td>\n",
       "      <td>267502.000000</td>\n",
       "      <td>267502.000000</td>\n",
       "      <td>267502.000000</td>\n",
       "      <td>267502.000000</td>\n",
       "      <td>267502.000000</td>\n",
       "    </tr>\n",
       "    <tr>\n",
       "      <th>mean</th>\n",
       "      <td>220899.952258</td>\n",
       "      <td>22.700499</td>\n",
       "      <td>2016.000258</td>\n",
       "      <td>0.283280</td>\n",
       "      <td>0.732125</td>\n",
       "      <td>2.033130e+05</td>\n",
       "      <td>203.312967</td>\n",
       "      <td>0.601803</td>\n",
       "      <td>0.143423</td>\n",
       "      <td>5.339721</td>\n",
       "      <td>0.195955</td>\n",
       "      <td>-9.286865</td>\n",
       "      <td>0.557487</td>\n",
       "      <td>0.239670</td>\n",
       "      <td>118.398818</td>\n",
       "      <td>3.915545</td>\n",
       "      <td>0.541311</td>\n",
       "    </tr>\n",
       "    <tr>\n",
       "      <th>std</th>\n",
       "      <td>127225.204065</td>\n",
       "      <td>18.567970</td>\n",
       "      <td>7.231670</td>\n",
       "      <td>0.270606</td>\n",
       "      <td>0.083597</td>\n",
       "      <td>1.044324e+05</td>\n",
       "      <td>104.432357</td>\n",
       "      <td>0.213236</td>\n",
       "      <td>0.302596</td>\n",
       "      <td>3.639194</td>\n",
       "      <td>0.161084</td>\n",
       "      <td>4.706482</td>\n",
       "      <td>0.496685</td>\n",
       "      <td>0.285055</td>\n",
       "      <td>26.073830</td>\n",
       "      <td>0.471497</td>\n",
       "      <td>0.236877</td>\n",
       "    </tr>\n",
       "    <tr>\n",
       "      <th>min</th>\n",
       "      <td>1.000000</td>\n",
       "      <td>0.000000</td>\n",
       "      <td>1950.000000</td>\n",
       "      <td>0.000000</td>\n",
       "      <td>0.600000</td>\n",
       "      <td>1.536000e+04</td>\n",
       "      <td>15.360000</td>\n",
       "      <td>0.000020</td>\n",
       "      <td>0.000000</td>\n",
       "      <td>0.000000</td>\n",
       "      <td>0.006300</td>\n",
       "      <td>-46.547000</td>\n",
       "      <td>0.000000</td>\n",
       "      <td>0.022100</td>\n",
       "      <td>30.506000</td>\n",
       "      <td>0.000000</td>\n",
       "      <td>0.000000</td>\n",
       "    </tr>\n",
       "    <tr>\n",
       "      <th>25%</th>\n",
       "      <td>110324.000000</td>\n",
       "      <td>7.000000</td>\n",
       "      <td>2015.000000</td>\n",
       "      <td>0.045200</td>\n",
       "      <td>0.665000</td>\n",
       "      <td>1.502180e+05</td>\n",
       "      <td>150.218000</td>\n",
       "      <td>0.452000</td>\n",
       "      <td>0.000000</td>\n",
       "      <td>2.000000</td>\n",
       "      <td>0.096200</td>\n",
       "      <td>-11.592000</td>\n",
       "      <td>0.000000</td>\n",
       "      <td>0.049600</td>\n",
       "      <td>98.006000</td>\n",
       "      <td>4.000000</td>\n",
       "      <td>0.362000</td>\n",
       "    </tr>\n",
       "    <tr>\n",
       "      <th>50%</th>\n",
       "      <td>221875.500000</td>\n",
       "      <td>20.000000</td>\n",
       "      <td>2019.000000</td>\n",
       "      <td>0.193000</td>\n",
       "      <td>0.720000</td>\n",
       "      <td>1.924640e+05</td>\n",
       "      <td>192.464000</td>\n",
       "      <td>0.618000</td>\n",
       "      <td>0.000003</td>\n",
       "      <td>6.000000</td>\n",
       "      <td>0.127000</td>\n",
       "      <td>-8.232000</td>\n",
       "      <td>1.000000</td>\n",
       "      <td>0.103000</td>\n",
       "      <td>120.002000</td>\n",
       "      <td>4.000000</td>\n",
       "      <td>0.546000</td>\n",
       "    </tr>\n",
       "    <tr>\n",
       "      <th>75%</th>\n",
       "      <td>331108.750000</td>\n",
       "      <td>35.000000</td>\n",
       "      <td>2020.000000</td>\n",
       "      <td>0.477000</td>\n",
       "      <td>0.791000</td>\n",
       "      <td>2.355195e+05</td>\n",
       "      <td>235.519500</td>\n",
       "      <td>0.769000</td>\n",
       "      <td>0.011600</td>\n",
       "      <td>9.000000</td>\n",
       "      <td>0.253000</td>\n",
       "      <td>-5.979000</td>\n",
       "      <td>1.000000</td>\n",
       "      <td>0.303000</td>\n",
       "      <td>133.974000</td>\n",
       "      <td>4.000000</td>\n",
       "      <td>0.727000</td>\n",
       "    </tr>\n",
       "    <tr>\n",
       "      <th>max</th>\n",
       "      <td>439892.000000</td>\n",
       "      <td>96.000000</td>\n",
       "      <td>2021.000000</td>\n",
       "      <td>0.996000</td>\n",
       "      <td>0.994000</td>\n",
       "      <td>6.024647e+06</td>\n",
       "      <td>6024.647000</td>\n",
       "      <td>1.000000</td>\n",
       "      <td>1.000000</td>\n",
       "      <td>11.000000</td>\n",
       "      <td>0.998000</td>\n",
       "      <td>4.363000</td>\n",
       "      <td>1.000000</td>\n",
       "      <td>0.972000</td>\n",
       "      <td>247.836000</td>\n",
       "      <td>5.000000</td>\n",
       "      <td>1.000000</td>\n",
       "    </tr>\n",
       "  </tbody>\n",
       "</table>\n",
       "</div>"
      ],
      "text/plain": [
       "           Index Num     popularity           year   acousticness  \\\n",
       "count  267502.000000  267502.000000  267502.000000  267502.000000   \n",
       "mean   220899.952258      22.700499    2016.000258       0.283280   \n",
       "std    127225.204065      18.567970       7.231670       0.270606   \n",
       "min         1.000000       0.000000    1950.000000       0.000000   \n",
       "25%    110324.000000       7.000000    2015.000000       0.045200   \n",
       "50%    221875.500000      20.000000    2019.000000       0.193000   \n",
       "75%    331108.750000      35.000000    2020.000000       0.477000   \n",
       "max    439892.000000      96.000000    2021.000000       0.996000   \n",
       "\n",
       "        danceability   duration_ms        seconds         energy  \\\n",
       "count  267502.000000  2.675020e+05  267502.000000  267502.000000   \n",
       "mean        0.732125  2.033130e+05     203.312967       0.601803   \n",
       "std         0.083597  1.044324e+05     104.432357       0.213236   \n",
       "min         0.600000  1.536000e+04      15.360000       0.000020   \n",
       "25%         0.665000  1.502180e+05     150.218000       0.452000   \n",
       "50%         0.720000  1.924640e+05     192.464000       0.618000   \n",
       "75%         0.791000  2.355195e+05     235.519500       0.769000   \n",
       "max         0.994000  6.024647e+06    6024.647000       1.000000   \n",
       "\n",
       "       instrumentalness            key       liveness       loudness  \\\n",
       "count     267502.000000  267502.000000  267502.000000  267502.000000   \n",
       "mean           0.143423       5.339721       0.195955      -9.286865   \n",
       "std            0.302596       3.639194       0.161084       4.706482   \n",
       "min            0.000000       0.000000       0.006300     -46.547000   \n",
       "25%            0.000000       2.000000       0.096200     -11.592000   \n",
       "50%            0.000003       6.000000       0.127000      -8.232000   \n",
       "75%            0.011600       9.000000       0.253000      -5.979000   \n",
       "max            1.000000      11.000000       0.998000       4.363000   \n",
       "\n",
       "                mode    speechiness          tempo  time_signature  \\\n",
       "count  267502.000000  267502.000000  267502.000000   267502.000000   \n",
       "mean        0.557487       0.239670     118.398818        3.915545   \n",
       "std         0.496685       0.285055      26.073830        0.471497   \n",
       "min         0.000000       0.022100      30.506000        0.000000   \n",
       "25%         0.000000       0.049600      98.006000        4.000000   \n",
       "50%         1.000000       0.103000     120.002000        4.000000   \n",
       "75%         1.000000       0.303000     133.974000        4.000000   \n",
       "max         1.000000       0.972000     247.836000        5.000000   \n",
       "\n",
       "             valence  \n",
       "count  267502.000000  \n",
       "mean        0.541311  \n",
       "std         0.236877  \n",
       "min         0.000000  \n",
       "25%         0.362000  \n",
       "50%         0.546000  \n",
       "75%         0.727000  \n",
       "max         1.000000  "
      ]
     },
     "execution_count": 37,
     "metadata": {},
     "output_type": "execute_result"
    }
   ],
   "source": [
    "## create df for tracks with year >= 2010 and use describe function to make sure\n",
    "df_high_dance = df_tracks.loc[df_tracks['danceability'] >= .6]\n",
    "df_high_dance.describe()"
   ]
  },
  {
   "cell_type": "code",
   "execution_count": 38,
   "metadata": {
    "colab": {
     "base_uri": "https://localhost:8080/",
     "height": 364
    },
    "executionInfo": {
     "elapsed": 301,
     "status": "ok",
     "timestamp": 1643411775502,
     "user": {
      "displayName": "Johnson Liang",
      "photoUrl": "https://lh3.googleusercontent.com/a/default-user=s64",
      "userId": "01439563269954497799"
     },
     "user_tz": 300
    },
    "id": "MdHRub-9GI2u",
    "outputId": "ebadabdc-bd5d-4333-8113-37cfd4995885"
   },
   "outputs": [
    {
     "data": {
      "text/html": [
       "<div>\n",
       "<style scoped>\n",
       "    .dataframe tbody tr th:only-of-type {\n",
       "        vertical-align: middle;\n",
       "    }\n",
       "\n",
       "    .dataframe tbody tr th {\n",
       "        vertical-align: top;\n",
       "    }\n",
       "\n",
       "    .dataframe thead th {\n",
       "        text-align: right;\n",
       "    }\n",
       "</style>\n",
       "<table border=\"1\" class=\"dataframe\">\n",
       "  <thead>\n",
       "    <tr style=\"text-align: right;\">\n",
       "      <th></th>\n",
       "      <th>Index Num</th>\n",
       "      <th>popularity</th>\n",
       "      <th>year</th>\n",
       "      <th>acousticness</th>\n",
       "      <th>danceability</th>\n",
       "      <th>duration_ms</th>\n",
       "      <th>seconds</th>\n",
       "      <th>energy</th>\n",
       "      <th>instrumentalness</th>\n",
       "      <th>key</th>\n",
       "      <th>liveness</th>\n",
       "      <th>loudness</th>\n",
       "      <th>mode</th>\n",
       "      <th>speechiness</th>\n",
       "      <th>tempo</th>\n",
       "      <th>time_signature</th>\n",
       "      <th>valence</th>\n",
       "    </tr>\n",
       "  </thead>\n",
       "  <tbody>\n",
       "    <tr>\n",
       "      <th>count</th>\n",
       "      <td>172017.000000</td>\n",
       "      <td>172017.000000</td>\n",
       "      <td>172017.000000</td>\n",
       "      <td>172017.000000</td>\n",
       "      <td>172017.000000</td>\n",
       "      <td>1.720170e+05</td>\n",
       "      <td>172017.000000</td>\n",
       "      <td>172017.000000</td>\n",
       "      <td>172017.000000</td>\n",
       "      <td>172017.000000</td>\n",
       "      <td>172017.000000</td>\n",
       "      <td>172017.000000</td>\n",
       "      <td>172017.000000</td>\n",
       "      <td>172017.000000</td>\n",
       "      <td>172017.000000</td>\n",
       "      <td>172017.000000</td>\n",
       "      <td>172017.000000</td>\n",
       "    </tr>\n",
       "    <tr>\n",
       "      <th>mean</th>\n",
       "      <td>218599.731399</td>\n",
       "      <td>22.958545</td>\n",
       "      <td>2013.683700</td>\n",
       "      <td>0.408734</td>\n",
       "      <td>0.437872</td>\n",
       "      <td>2.290751e+05</td>\n",
       "      <td>229.075080</td>\n",
       "      <td>0.558941</td>\n",
       "      <td>0.259101</td>\n",
       "      <td>5.210502</td>\n",
       "      <td>0.230455</td>\n",
       "      <td>-11.001446</td>\n",
       "      <td>0.600330</td>\n",
       "      <td>0.117137</td>\n",
       "      <td>120.552877</td>\n",
       "      <td>3.821163</td>\n",
       "      <td>0.372736</td>\n",
       "    </tr>\n",
       "    <tr>\n",
       "      <th>std</th>\n",
       "      <td>126584.753546</td>\n",
       "      <td>18.434401</td>\n",
       "      <td>9.740882</td>\n",
       "      <td>0.372305</td>\n",
       "      <td>0.131817</td>\n",
       "      <td>1.480655e+05</td>\n",
       "      <td>148.065453</td>\n",
       "      <td>0.294326</td>\n",
       "      <td>0.377813</td>\n",
       "      <td>3.554782</td>\n",
       "      <td>0.202664</td>\n",
       "      <td>7.254470</td>\n",
       "      <td>0.489832</td>\n",
       "      <td>0.165915</td>\n",
       "      <td>35.640809</td>\n",
       "      <td>0.641505</td>\n",
       "      <td>0.243833</td>\n",
       "    </tr>\n",
       "    <tr>\n",
       "      <th>min</th>\n",
       "      <td>0.000000</td>\n",
       "      <td>0.000000</td>\n",
       "      <td>1950.000000</td>\n",
       "      <td>0.000000</td>\n",
       "      <td>0.000000</td>\n",
       "      <td>1.864000e+03</td>\n",
       "      <td>1.864000</td>\n",
       "      <td>0.000000</td>\n",
       "      <td>0.000000</td>\n",
       "      <td>0.000000</td>\n",
       "      <td>0.000000</td>\n",
       "      <td>-60.000000</td>\n",
       "      <td>0.000000</td>\n",
       "      <td>0.000000</td>\n",
       "      <td>0.000000</td>\n",
       "      <td>0.000000</td>\n",
       "      <td>0.000000</td>\n",
       "    </tr>\n",
       "    <tr>\n",
       "      <th>25%</th>\n",
       "      <td>109617.000000</td>\n",
       "      <td>7.000000</td>\n",
       "      <td>2012.000000</td>\n",
       "      <td>0.028000</td>\n",
       "      <td>0.363000</td>\n",
       "      <td>1.632400e+05</td>\n",
       "      <td>163.240000</td>\n",
       "      <td>0.320000</td>\n",
       "      <td>0.000000</td>\n",
       "      <td>2.000000</td>\n",
       "      <td>0.103000</td>\n",
       "      <td>-14.116000</td>\n",
       "      <td>0.000000</td>\n",
       "      <td>0.036800</td>\n",
       "      <td>90.409000</td>\n",
       "      <td>4.000000</td>\n",
       "      <td>0.169000</td>\n",
       "    </tr>\n",
       "    <tr>\n",
       "      <th>50%</th>\n",
       "      <td>217243.000000</td>\n",
       "      <td>20.000000</td>\n",
       "      <td>2017.000000</td>\n",
       "      <td>0.316000</td>\n",
       "      <td>0.473000</td>\n",
       "      <td>2.120000e+05</td>\n",
       "      <td>212.000000</td>\n",
       "      <td>0.591000</td>\n",
       "      <td>0.000628</td>\n",
       "      <td>5.000000</td>\n",
       "      <td>0.139000</td>\n",
       "      <td>-8.774000</td>\n",
       "      <td>1.000000</td>\n",
       "      <td>0.049700</td>\n",
       "      <td>120.034000</td>\n",
       "      <td>4.000000</td>\n",
       "      <td>0.343000</td>\n",
       "    </tr>\n",
       "    <tr>\n",
       "      <th>75%</th>\n",
       "      <td>327776.000000</td>\n",
       "      <td>36.000000</td>\n",
       "      <td>2020.000000</td>\n",
       "      <td>0.793000</td>\n",
       "      <td>0.543000</td>\n",
       "      <td>2.652270e+05</td>\n",
       "      <td>265.227000</td>\n",
       "      <td>0.820000</td>\n",
       "      <td>0.667000</td>\n",
       "      <td>8.000000</td>\n",
       "      <td>0.300000</td>\n",
       "      <td>-5.887000</td>\n",
       "      <td>1.000000</td>\n",
       "      <td>0.104000</td>\n",
       "      <td>145.205000</td>\n",
       "      <td>4.000000</td>\n",
       "      <td>0.548000</td>\n",
       "    </tr>\n",
       "    <tr>\n",
       "      <th>max</th>\n",
       "      <td>439888.000000</td>\n",
       "      <td>100.000000</td>\n",
       "      <td>2021.000000</td>\n",
       "      <td>0.996000</td>\n",
       "      <td>0.599000</td>\n",
       "      <td>5.903468e+06</td>\n",
       "      <td>5903.468000</td>\n",
       "      <td>1.000000</td>\n",
       "      <td>1.000000</td>\n",
       "      <td>11.000000</td>\n",
       "      <td>1.000000</td>\n",
       "      <td>5.285000</td>\n",
       "      <td>1.000000</td>\n",
       "      <td>0.968000</td>\n",
       "      <td>249.810000</td>\n",
       "      <td>5.000000</td>\n",
       "      <td>1.000000</td>\n",
       "    </tr>\n",
       "  </tbody>\n",
       "</table>\n",
       "</div>"
      ],
      "text/plain": [
       "           Index Num     popularity           year   acousticness  \\\n",
       "count  172017.000000  172017.000000  172017.000000  172017.000000   \n",
       "mean   218599.731399      22.958545    2013.683700       0.408734   \n",
       "std    126584.753546      18.434401       9.740882       0.372305   \n",
       "min         0.000000       0.000000    1950.000000       0.000000   \n",
       "25%    109617.000000       7.000000    2012.000000       0.028000   \n",
       "50%    217243.000000      20.000000    2017.000000       0.316000   \n",
       "75%    327776.000000      36.000000    2020.000000       0.793000   \n",
       "max    439888.000000     100.000000    2021.000000       0.996000   \n",
       "\n",
       "        danceability   duration_ms        seconds         energy  \\\n",
       "count  172017.000000  1.720170e+05  172017.000000  172017.000000   \n",
       "mean        0.437872  2.290751e+05     229.075080       0.558941   \n",
       "std         0.131817  1.480655e+05     148.065453       0.294326   \n",
       "min         0.000000  1.864000e+03       1.864000       0.000000   \n",
       "25%         0.363000  1.632400e+05     163.240000       0.320000   \n",
       "50%         0.473000  2.120000e+05     212.000000       0.591000   \n",
       "75%         0.543000  2.652270e+05     265.227000       0.820000   \n",
       "max         0.599000  5.903468e+06    5903.468000       1.000000   \n",
       "\n",
       "       instrumentalness            key       liveness       loudness  \\\n",
       "count     172017.000000  172017.000000  172017.000000  172017.000000   \n",
       "mean           0.259101       5.210502       0.230455     -11.001446   \n",
       "std            0.377813       3.554782       0.202664       7.254470   \n",
       "min            0.000000       0.000000       0.000000     -60.000000   \n",
       "25%            0.000000       2.000000       0.103000     -14.116000   \n",
       "50%            0.000628       5.000000       0.139000      -8.774000   \n",
       "75%            0.667000       8.000000       0.300000      -5.887000   \n",
       "max            1.000000      11.000000       1.000000       5.285000   \n",
       "\n",
       "                mode    speechiness          tempo  time_signature  \\\n",
       "count  172017.000000  172017.000000  172017.000000   172017.000000   \n",
       "mean        0.600330       0.117137     120.552877        3.821163   \n",
       "std         0.489832       0.165915      35.640809        0.641505   \n",
       "min         0.000000       0.000000       0.000000        0.000000   \n",
       "25%         0.000000       0.036800      90.409000        4.000000   \n",
       "50%         1.000000       0.049700     120.034000        4.000000   \n",
       "75%         1.000000       0.104000     145.205000        4.000000   \n",
       "max         1.000000       0.968000     249.810000        5.000000   \n",
       "\n",
       "             valence  \n",
       "count  172017.000000  \n",
       "mean        0.372736  \n",
       "std         0.243833  \n",
       "min         0.000000  \n",
       "25%         0.169000  \n",
       "50%         0.343000  \n",
       "75%         0.548000  \n",
       "max         1.000000  "
      ]
     },
     "execution_count": 38,
     "metadata": {},
     "output_type": "execute_result"
    }
   ],
   "source": [
    "df_low_dance = df_tracks.loc[df_tracks['danceability'] < .6]\n",
    "df_low_dance.describe()"
   ]
  },
  {
   "cell_type": "markdown",
   "metadata": {
    "id": "yWOoP-e8GcrK"
   },
   "source": [
    "**<font size=\"3\">Hypothesis 4 (Danceability): T-Test</font>**"
   ]
  },
  {
   "cell_type": "code",
   "execution_count": 39,
   "metadata": {
    "colab": {
     "base_uri": "https://localhost:8080/"
    },
    "executionInfo": {
     "elapsed": 4,
     "status": "ok",
     "timestamp": 1643411775503,
     "user": {
      "displayName": "Johnson Liang",
      "photoUrl": "https://lh3.googleusercontent.com/a/default-user=s64",
      "userId": "01439563269954497799"
     },
     "user_tz": 300
    },
    "id": "QZRBm5j3GgQM",
    "outputId": "47996356-3557-41b5-d08a-1a90a2b15cf9"
   },
   "outputs": [
    {
     "data": {
      "text/plain": [
       "Ttest_indResult(statistic=-4.509347762207383, pvalue=6.504401181325645e-06)"
      ]
     },
     "execution_count": 39,
     "metadata": {},
     "output_type": "execute_result"
    }
   ],
   "source": [
    "# generates t-stat and p-value\n",
    "# popularity ratings not N.D., but large sample should still suffice for t-test\n",
    "stats.ttest_ind(df_high_dance['popularity'], df_low_dance['popularity'])"
   ]
  },
  {
   "cell_type": "markdown",
   "metadata": {
    "id": "kZTd1btKGzAy"
   },
   "source": [
    "- Reject null hypothesis because test shows a significant difference between the 2 tested groups with a p-value significantly less than alpha (0.05).\n",
    "- Danceabiltiy rating has a significant change in popularity. "
   ]
  },
  {
   "cell_type": "markdown",
   "metadata": {
    "id": "IsCBG629HPrR"
   },
   "source": [
    "**<font size=\"3\">Hypothesis 4 (Danceability): Confidence Intervals</font>**"
   ]
  },
  {
   "cell_type": "code",
   "execution_count": 40,
   "metadata": {
    "colab": {
     "base_uri": "https://localhost:8080/",
     "height": 35
    },
    "executionInfo": {
     "elapsed": 4,
     "status": "ok",
     "timestamp": 1643411775504,
     "user": {
      "displayName": "Johnson Liang",
      "photoUrl": "https://lh3.googleusercontent.com/a/default-user=s64",
      "userId": "01439563269954497799"
     },
     "user_tz": 300
    },
    "id": "N1yxNJWjHLrB",
    "outputId": "36eee9d8-4fb0-49d1-f439-0634c20232b5"
   },
   "outputs": [
    {
     "data": {
      "text/plain": [
       "'The difference in means of popularity at a 95% Confidence Interval is between -0.37002968688487137 and -0.14606103206103957.'"
      ]
     },
     "execution_count": 40,
     "metadata": {},
     "output_type": "execute_result"
    }
   ],
   "source": [
    "get_95_ci(df_low_dance['popularity'], df_high_dance['popularity'])"
   ]
  },
  {
   "cell_type": "markdown",
   "metadata": {
    "id": "0AgYOqC4HbuU"
   },
   "source": [
    "- Reject null hypothesis because test shows a significant difference between the 2 tested groups with a p-value less than alpha (0.05). \n",
    "- Energy rating has a significant change on popularity. "
   ]
  },
  {
   "cell_type": "markdown",
   "metadata": {
    "id": "KidzrC65H4Bw"
   },
   "source": [
    "**<font size=\"5\">Results of Hypotheses Testing</font>**"
   ]
  },
  {
   "cell_type": "markdown",
   "metadata": {
    "id": "bASJtXbjIKvl"
   },
   "source": [
    "1. There is a significant difference in popularity ratings of soundtracks released in 2010 and thereafter. \n",
    "2. There is NO significant difference in popularity ratings of soundtracks with longer durations or shorter durations. \n",
    "3. There is a significant difference in popularity of tracks with a high energy rating vs lower rating. \n",
    "4. There is a significant difference in popularity of tracks with a high danceability rating vs lower rating. "
   ]
  },
  {
   "cell_type": "markdown",
   "metadata": {
    "id": "p8A3cfeSJk28"
   },
   "source": [
    "**<font size=\"5\">Ending Remarks</font>**"
   ]
  },
  {
   "cell_type": "markdown",
   "metadata": {
    "id": "LkjFfS7DJkn8"
   },
   "source": [
    "A soundtrack, whether musical or lyrical, has many attributes that have an influence on its popularity amongst streaming platforms that many use everyday. \n",
    "\n",
    "What my analysis found on this particular dataset, was that the soundtrack's popularity based on this dataset, was influenced by attributes such as year of release, energy, and danceabiltiy rating. \n",
    "\n",
    "Any field that works heavily with media, whether they are content creators or content marketers,  should pay more attention to songs that:\n",
    "- are released in recent years\n",
    "- have a higher energy rating\n",
    "- have a higher danceabiltiy rating\n"
   ]
  }
 ],
 "metadata": {
  "colab": {
   "collapsed_sections": [],
   "name": "Capstone3_SoundTracks.ipynb",
   "provenance": []
  },
  "kernelspec": {
   "display_name": "Python 3 (ipykernel)",
   "language": "python",
   "name": "python3"
  },
  "language_info": {
   "codemirror_mode": {
    "name": "ipython",
    "version": 3
   },
   "file_extension": ".py",
   "mimetype": "text/x-python",
   "name": "python",
   "nbconvert_exporter": "python",
   "pygments_lexer": "ipython3",
   "version": "3.7.11"
  }
 },
 "nbformat": 4,
 "nbformat_minor": 1
}
